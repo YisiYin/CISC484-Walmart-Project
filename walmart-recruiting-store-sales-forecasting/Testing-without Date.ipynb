{
 "cells": [
  {
   "cell_type": "code",
   "execution_count": 1,
   "metadata": {},
   "outputs": [],
   "source": [
    "# used for manipulating directory paths\n",
    "import os\n",
    "import pandas as pd\n",
    "import numpy as np\n",
    "\n",
    "# Plotting library\n",
    "import matplotlib.pyplot as plt\n",
    "from mpl_toolkits.mplot3d import Axes3D  # needed to plot 3-D surfaces\n",
    "\n",
    "# tells matplotlib to embed plots within the notebook\n",
    "%matplotlib inline"
   ]
  },
  {
   "cell_type": "code",
   "execution_count": 2,
   "metadata": {},
   "outputs": [
    {
     "data": {
      "text/plain": [
       "337396"
      ]
     },
     "execution_count": 2,
     "metadata": {},
     "output_type": "execute_result"
    }
   ],
   "source": [
    "df = pd.read_csv('train.csv')\n",
    "msk = np.random.rand(len(df)) <= 0.8\n",
    "\n",
    "train = df[msk]\n",
    "test = df[~msk]\n",
    "train.head()\n",
    "len(train)"
   ]
  },
  {
   "cell_type": "code",
   "execution_count": 20,
   "metadata": {},
   "outputs": [
    {
     "data": {
      "text/html": [
       "<div>\n",
       "<style scoped>\n",
       "    .dataframe tbody tr th:only-of-type {\n",
       "        vertical-align: middle;\n",
       "    }\n",
       "\n",
       "    .dataframe tbody tr th {\n",
       "        vertical-align: top;\n",
       "    }\n",
       "\n",
       "    .dataframe thead th {\n",
       "        text-align: right;\n",
       "    }\n",
       "</style>\n",
       "<table border=\"1\" class=\"dataframe\">\n",
       "  <thead>\n",
       "    <tr style=\"text-align: right;\">\n",
       "      <th></th>\n",
       "      <th>Store</th>\n",
       "      <th>Dept</th>\n",
       "      <th>Date</th>\n",
       "      <th>Weekly_Sales</th>\n",
       "      <th>IsHoliday</th>\n",
       "    </tr>\n",
       "  </thead>\n",
       "  <tbody>\n",
       "    <tr>\n",
       "      <th>Store</th>\n",
       "      <td>1.000000</td>\n",
       "      <td>0.014862</td>\n",
       "      <td>0.004034</td>\n",
       "      <td>0.149400</td>\n",
       "      <td>-0.001042</td>\n",
       "    </tr>\n",
       "    <tr>\n",
       "      <th>Dept</th>\n",
       "      <td>0.014862</td>\n",
       "      <td>1.000000</td>\n",
       "      <td>0.002010</td>\n",
       "      <td>0.046698</td>\n",
       "      <td>0.000812</td>\n",
       "    </tr>\n",
       "    <tr>\n",
       "      <th>Date</th>\n",
       "      <td>0.004034</td>\n",
       "      <td>0.002010</td>\n",
       "      <td>1.000000</td>\n",
       "      <td>0.003156</td>\n",
       "      <td>-0.042377</td>\n",
       "    </tr>\n",
       "    <tr>\n",
       "      <th>Weekly_Sales</th>\n",
       "      <td>0.149400</td>\n",
       "      <td>0.046698</td>\n",
       "      <td>0.003156</td>\n",
       "      <td>1.000000</td>\n",
       "      <td>0.005764</td>\n",
       "    </tr>\n",
       "    <tr>\n",
       "      <th>IsHoliday</th>\n",
       "      <td>-0.001042</td>\n",
       "      <td>0.000812</td>\n",
       "      <td>-0.042377</td>\n",
       "      <td>0.005764</td>\n",
       "      <td>1.000000</td>\n",
       "    </tr>\n",
       "  </tbody>\n",
       "</table>\n",
       "</div>"
      ],
      "text/plain": [
       "                 Store      Dept      Date  Weekly_Sales  IsHoliday\n",
       "Store         1.000000  0.014862  0.004034      0.149400  -0.001042\n",
       "Dept          0.014862  1.000000  0.002010      0.046698   0.000812\n",
       "Date          0.004034  0.002010  1.000000      0.003156  -0.042377\n",
       "Weekly_Sales  0.149400  0.046698  0.003156      1.000000   0.005764\n",
       "IsHoliday    -0.001042  0.000812 -0.042377      0.005764   1.000000"
      ]
     },
     "execution_count": 20,
     "metadata": {},
     "output_type": "execute_result"
    }
   ],
   "source": [
    "# getting the correlation matrix\n",
    "train.apply(lambda x: x.factorize()[0]).corr()"
   ]
  },
  {
   "cell_type": "code",
   "execution_count": 3,
   "metadata": {},
   "outputs": [
    {
     "data": {
      "text/plain": [
       "84174"
      ]
     },
     "execution_count": 3,
     "metadata": {},
     "output_type": "execute_result"
    }
   ],
   "source": [
    "test.head()\n",
    "len(test)"
   ]
  },
  {
   "cell_type": "code",
   "execution_count": 4,
   "metadata": {},
   "outputs": [],
   "source": [
    "train=train.replace('-','',regex=True).astype(int)\n",
    "train = train.replace('FALSE', '0', regex=True).astype(int)\n",
    "\n",
    "test=test.replace('-','',regex=True).astype(int)\n",
    "test = test.replace('FALSE', '0', regex=True).astype(int)"
   ]
  },
  {
   "cell_type": "code",
   "execution_count": 6,
   "metadata": {},
   "outputs": [
    {
     "name": "stdout",
     "output_type": "stream",
     "text": [
      "(337396,)\n",
      "(337396,)\n",
      "(337396,)\n"
     ]
    }
   ],
   "source": [
    "x1 = train[\"Store\"]\n",
    "x2 = train[\"Dept\"]\n",
    "x3 = train[\"IsHoliday\"]\n",
    "y = train[\"Weekly_Sales\"]\n",
    "m_train = y.size\n",
    "print(x1.shape)\n",
    "print(x2.shape)\n",
    "print(x3.shape)\n"
   ]
  },
  {
   "cell_type": "code",
   "execution_count": 7,
   "metadata": {},
   "outputs": [],
   "source": [
    "# Convert our variables datatype from series to array :\n",
    "\n",
    "x1 = np.array(x1)\n",
    "x2 = np.array(x2)\n",
    "x3 = np.array(x3)\n",
    "\n",
    "x1 = x1\n",
    "x2 = np.power(x2,2)\n",
    "x3 = np.power(x3,3)\n",
    "\n",
    "y = np.array(y)"
   ]
  },
  {
   "cell_type": "code",
   "execution_count": 8,
   "metadata": {},
   "outputs": [
    {
     "data": {
      "text/plain": [
       "array([[1.000e+00, 1.000e+00, 1.000e+00, 0.000e+00],\n",
       "       [1.000e+00, 1.000e+00, 1.000e+00, 1.000e+00],\n",
       "       [1.000e+00, 1.000e+00, 1.000e+00, 0.000e+00],\n",
       "       ...,\n",
       "       [1.000e+00, 4.500e+01, 9.604e+03, 0.000e+00],\n",
       "       [1.000e+00, 4.500e+01, 9.604e+03, 0.000e+00],\n",
       "       [1.000e+00, 4.500e+01, 9.604e+03, 0.000e+00]])"
      ]
     },
     "execution_count": 8,
     "metadata": {},
     "output_type": "execute_result"
    }
   ],
   "source": [
    "# Create a “ones” matrix :\n",
    "x_bias = np.ones((m_train,1))\n",
    "\n",
    "# Reshape our data so that we can perform operations like addition and multiplication with x_bias\n",
    "\n",
    "x1_new = np.reshape(x1,(m_train,1))\n",
    "x2_new = np.reshape(x2,(m_train,1))\n",
    "x3_new = np.reshape(x3,(m_train,1))\n",
    "\n",
    "\n",
    "#Create a major matrix with all the columns:\n",
    "\n",
    "x_new = np.append(x_bias,x1_new,axis=1)\n",
    "x_new = np.append(x_new,x2_new,axis=1)\n",
    "x_new = np.append(x_new,x3_new,axis=1)\n",
    "\n",
    "\n",
    "x_new"
   ]
  },
  {
   "cell_type": "code",
   "execution_count": 10,
   "metadata": {},
   "outputs": [
    {
     "data": {
      "text/plain": [
       "array([ 1.50100341e+04, -1.64992277e+02,  1.58022873e+00,  1.13328705e+03])"
      ]
     },
     "execution_count": 10,
     "metadata": {},
     "output_type": "execute_result"
    }
   ],
   "source": [
    "#Find transpose of a matrix :\n",
    "\n",
    "x_new_transpose = np.transpose(x_new)\n",
    "\n",
    "#Perform multiplication:\n",
    "\n",
    "x_new_transpose_dot_x_new = x_new_transpose.dot(x_new)\n",
    "\n",
    "#AFter regularization\n",
    "lambd = -18\n",
    "IdentityMatrix= np.zeros((4, 4))\n",
    "#x_new_transpose_dot_x_new = x_new_transpose_dot_x_new + (lambd*IdentityMatrix)\n",
    "\n",
    "# find the inverse\n",
    "\n",
    "temp_1 = np.linalg.inv(x_new_transpose_dot_x_new + (lambd*IdentityMatrix))\n",
    "\n",
    "#perform multiplication\n",
    "\n",
    "temp_2 = x_new_transpose.dot(y)\n",
    "\n",
    "#Finding coefficients :\n",
    "\n",
    "theta = temp_1.dot(temp_2)\n",
    "\n",
    "theta"
   ]
  },
  {
   "cell_type": "code",
   "execution_count": 11,
   "metadata": {},
   "outputs": [
    {
     "name": "stdout",
     "output_type": "stream",
     "text": [
      "(84174,)\n",
      "(84174,)\n",
      "(84174,)\n"
     ]
    }
   ],
   "source": [
    "x1_test = test[\"Store\"]\n",
    "x2_test = test[\"Dept\"]\n",
    "x3_test = test[\"IsHoliday\"]\n",
    "y_test = test[\"Weekly_Sales\"]\n",
    "m_test=x1_test.size\n",
    "print(x1_test.shape)\n",
    "print(x2_test.shape)\n",
    "print(x3_test.shape)"
   ]
  },
  {
   "cell_type": "code",
   "execution_count": 12,
   "metadata": {},
   "outputs": [],
   "source": [
    "# Convert our variables datatype from series to array :\n",
    "\n",
    "x1_test = np.array(x1_test)\n",
    "x2_test = np.array(x2_test)\n",
    "x3_test = np.array(x3_test)\n",
    "\n",
    "x1_test = x1_test\n",
    "x2_test = np.power(x2_test,2)\n",
    "x3_test = np.power(x3_test,3)\n",
    "\n",
    "y_test = np.array(y_test)"
   ]
  },
  {
   "cell_type": "code",
   "execution_count": 18,
   "metadata": {},
   "outputs": [
    {
     "name": "stdout",
     "output_type": "stream",
     "text": [
      "0.0\n"
     ]
    }
   ],
   "source": [
    "# Create a “ones” matrix :\n",
    "x_bias = np.ones((m_test,1))\n",
    "\n",
    "# Reshape our data so that we can perform operations like addition and multiplication with x_bias\n",
    "\n",
    "x1_new_test = np.reshape(x1_test,(m_test,1))\n",
    "x2_new_test = np.reshape(x2_test,(m_test,1))\n",
    "x3_new_test = np.reshape(x3_test,(m_test,1))\n",
    "\n",
    "\n",
    "#Create a major matrix with all the columns:\n",
    "\n",
    "x_new_test = np.append(x_bias,x1_new_test,axis=1)\n",
    "x_new_test = np.append(x_new_test,x2_new_test,axis=1)\n",
    "x_new_test = np.append(x_new_test,x3_new_test,axis=1)\n"
   ]
  },
  {
   "cell_type": "code",
   "execution_count": 14,
   "metadata": {},
   "outputs": [
    {
     "name": "stdout",
     "output_type": "stream",
     "text": [
      "[14846.62202989 14846.62202989 14846.62202989 ... 22761.89835457\n",
      " 22761.89835457 22761.89835457]\n",
      "[42960 14773 16637 ...   605   467   760]\n"
     ]
    }
   ],
   "source": [
    "y_predict = np.zeros(m_test)\n",
    "for i in range(m_test):\n",
    "    sum = 0\n",
    "    for n in range(3):\n",
    "        sum += theta[n] * x_new_test[i][n]\n",
    "    y_predict[i] = sum\n",
    "print(y_predict)\n",
    "\n",
    "\n",
    "print(y_test)"
   ]
  },
  {
   "cell_type": "code",
   "execution_count": 19,
   "metadata": {},
   "outputs": [
    {
     "name": "stdout",
     "output_type": "stream",
     "text": [
      "14994.01896558244\n"
     ]
    }
   ],
   "source": [
    "#evaluation\n",
    "def WMAE(X_test, y_predict, y_test):\n",
    "    sum = 0\n",
    "    W = 0\n",
    "    for i in range(m_test):\n",
    "        if X_test[i][3] == 0:\n",
    "            sum += abs(y_predict[i]-y_test[i])\n",
    "            W += 1\n",
    "        else:\n",
    "            sum += 5 * abs(y_predict[i]-y_test[i])\n",
    "            W += 5\n",
    "    return sum / W\n",
    "\n",
    "print(WMAE(x_new_test,y_predict,y_test))"
   ]
  },
  {
   "cell_type": "code",
   "execution_count": null,
   "metadata": {},
   "outputs": [],
   "source": []
  }
 ],
 "metadata": {
  "kernelspec": {
   "display_name": "Python 3",
   "language": "python",
   "name": "python3"
  },
  "language_info": {
   "codemirror_mode": {
    "name": "ipython",
    "version": 3
   },
   "file_extension": ".py",
   "mimetype": "text/x-python",
   "name": "python",
   "nbconvert_exporter": "python",
   "pygments_lexer": "ipython3",
   "version": "3.8.5"
  }
 },
 "nbformat": 4,
 "nbformat_minor": 4
}
