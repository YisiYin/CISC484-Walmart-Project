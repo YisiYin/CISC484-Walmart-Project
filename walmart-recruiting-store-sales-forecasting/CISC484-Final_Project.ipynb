{
 "cells": [
  {
   "cell_type": "code",
   "execution_count": 645,
   "metadata": {},
   "outputs": [],
   "source": [
    "# used for manipulating directory paths\n",
    "import os\n",
    "import pandas as pd\n",
    "import numpy as np\n",
    "from sklearn.metrics import accuracy_score\n",
    "\n",
    "# Plotting library\n",
    "import matplotlib.pyplot as plt\n",
    "from mpl_toolkits.mplot3d import Axes3D  # needed to plot 3-D surfaces\n",
    "\n",
    "# tells matplotlib to embed plots within the notebook\n",
    "%matplotlib inline"
   ]
  },
  {
   "cell_type": "code",
   "execution_count": 15,
   "metadata": {},
   "outputs": [],
   "source": [
    "df1 = pd.read_csv('features_update.csv')\n",
    "df2 = pd.read_csv('train.csv')\n",
    "\n",
    "df1.head()\n",
    "\n",
    "df_final = df1.merge(df2, on = ['Store','Date'])"
   ]
  },
  {
   "cell_type": "code",
   "execution_count": 16,
   "metadata": {},
   "outputs": [
    {
     "data": {
      "text/html": [
       "<div>\n",
       "<style scoped>\n",
       "    .dataframe tbody tr th:only-of-type {\n",
       "        vertical-align: middle;\n",
       "    }\n",
       "\n",
       "    .dataframe tbody tr th {\n",
       "        vertical-align: top;\n",
       "    }\n",
       "\n",
       "    .dataframe thead th {\n",
       "        text-align: right;\n",
       "    }\n",
       "</style>\n",
       "<table border=\"1\" class=\"dataframe\">\n",
       "  <thead>\n",
       "    <tr style=\"text-align: right;\">\n",
       "      <th></th>\n",
       "      <th>Store</th>\n",
       "      <th>Dept</th>\n",
       "      <th>Date</th>\n",
       "      <th>Weekly_Sales</th>\n",
       "      <th>IsHoliday</th>\n",
       "    </tr>\n",
       "  </thead>\n",
       "  <tbody>\n",
       "    <tr>\n",
       "      <th>0</th>\n",
       "      <td>1</td>\n",
       "      <td>1</td>\n",
       "      <td>2010-02-05</td>\n",
       "      <td>24924.50</td>\n",
       "      <td>False</td>\n",
       "    </tr>\n",
       "    <tr>\n",
       "      <th>1</th>\n",
       "      <td>1</td>\n",
       "      <td>1</td>\n",
       "      <td>2010-02-12</td>\n",
       "      <td>46039.49</td>\n",
       "      <td>True</td>\n",
       "    </tr>\n",
       "    <tr>\n",
       "      <th>2</th>\n",
       "      <td>1</td>\n",
       "      <td>1</td>\n",
       "      <td>2010-02-19</td>\n",
       "      <td>41595.55</td>\n",
       "      <td>False</td>\n",
       "    </tr>\n",
       "    <tr>\n",
       "      <th>3</th>\n",
       "      <td>1</td>\n",
       "      <td>1</td>\n",
       "      <td>2010-02-26</td>\n",
       "      <td>19403.54</td>\n",
       "      <td>False</td>\n",
       "    </tr>\n",
       "    <tr>\n",
       "      <th>4</th>\n",
       "      <td>1</td>\n",
       "      <td>1</td>\n",
       "      <td>2010-03-05</td>\n",
       "      <td>21827.90</td>\n",
       "      <td>False</td>\n",
       "    </tr>\n",
       "  </tbody>\n",
       "</table>\n",
       "</div>"
      ],
      "text/plain": [
       "   Store  Dept        Date  Weekly_Sales  IsHoliday\n",
       "0      1     1  2010-02-05      24924.50      False\n",
       "1      1     1  2010-02-12      46039.49       True\n",
       "2      1     1  2010-02-19      41595.55      False\n",
       "3      1     1  2010-02-26      19403.54      False\n",
       "4      1     1  2010-03-05      21827.90      False"
      ]
     },
     "execution_count": 16,
     "metadata": {},
     "output_type": "execute_result"
    }
   ],
   "source": [
    "df2.head()"
   ]
  },
  {
   "cell_type": "code",
   "execution_count": 17,
   "metadata": {},
   "outputs": [
    {
     "data": {
      "text/html": [
       "<div>\n",
       "<style scoped>\n",
       "    .dataframe tbody tr th:only-of-type {\n",
       "        vertical-align: middle;\n",
       "    }\n",
       "\n",
       "    .dataframe tbody tr th {\n",
       "        vertical-align: top;\n",
       "    }\n",
       "\n",
       "    .dataframe thead th {\n",
       "        text-align: right;\n",
       "    }\n",
       "</style>\n",
       "<table border=\"1\" class=\"dataframe\">\n",
       "  <thead>\n",
       "    <tr style=\"text-align: right;\">\n",
       "      <th></th>\n",
       "      <th>Store</th>\n",
       "      <th>Date</th>\n",
       "      <th>Temperature</th>\n",
       "      <th>Fuel_Price</th>\n",
       "      <th>CPI</th>\n",
       "      <th>Unemployment</th>\n",
       "      <th>Dept</th>\n",
       "      <th>Weekly_Sales</th>\n",
       "      <th>IsHoliday</th>\n",
       "    </tr>\n",
       "  </thead>\n",
       "  <tbody>\n",
       "    <tr>\n",
       "      <th>0</th>\n",
       "      <td>1</td>\n",
       "      <td>2010-02-05</td>\n",
       "      <td>42.31</td>\n",
       "      <td>2.572</td>\n",
       "      <td>211.096358</td>\n",
       "      <td>8.106</td>\n",
       "      <td>1</td>\n",
       "      <td>24924.50</td>\n",
       "      <td>False</td>\n",
       "    </tr>\n",
       "    <tr>\n",
       "      <th>1</th>\n",
       "      <td>1</td>\n",
       "      <td>2010-02-05</td>\n",
       "      <td>42.31</td>\n",
       "      <td>2.572</td>\n",
       "      <td>211.096358</td>\n",
       "      <td>8.106</td>\n",
       "      <td>2</td>\n",
       "      <td>50605.27</td>\n",
       "      <td>False</td>\n",
       "    </tr>\n",
       "    <tr>\n",
       "      <th>2</th>\n",
       "      <td>1</td>\n",
       "      <td>2010-02-05</td>\n",
       "      <td>42.31</td>\n",
       "      <td>2.572</td>\n",
       "      <td>211.096358</td>\n",
       "      <td>8.106</td>\n",
       "      <td>3</td>\n",
       "      <td>13740.12</td>\n",
       "      <td>False</td>\n",
       "    </tr>\n",
       "    <tr>\n",
       "      <th>3</th>\n",
       "      <td>1</td>\n",
       "      <td>2010-02-05</td>\n",
       "      <td>42.31</td>\n",
       "      <td>2.572</td>\n",
       "      <td>211.096358</td>\n",
       "      <td>8.106</td>\n",
       "      <td>4</td>\n",
       "      <td>39954.04</td>\n",
       "      <td>False</td>\n",
       "    </tr>\n",
       "    <tr>\n",
       "      <th>4</th>\n",
       "      <td>1</td>\n",
       "      <td>2010-02-05</td>\n",
       "      <td>42.31</td>\n",
       "      <td>2.572</td>\n",
       "      <td>211.096358</td>\n",
       "      <td>8.106</td>\n",
       "      <td>5</td>\n",
       "      <td>32229.38</td>\n",
       "      <td>False</td>\n",
       "    </tr>\n",
       "  </tbody>\n",
       "</table>\n",
       "</div>"
      ],
      "text/plain": [
       "   Store        Date  Temperature  Fuel_Price         CPI  Unemployment  Dept  \\\n",
       "0      1  2010-02-05        42.31       2.572  211.096358         8.106     1   \n",
       "1      1  2010-02-05        42.31       2.572  211.096358         8.106     2   \n",
       "2      1  2010-02-05        42.31       2.572  211.096358         8.106     3   \n",
       "3      1  2010-02-05        42.31       2.572  211.096358         8.106     4   \n",
       "4      1  2010-02-05        42.31       2.572  211.096358         8.106     5   \n",
       "\n",
       "   Weekly_Sales  IsHoliday  \n",
       "0      24924.50      False  \n",
       "1      50605.27      False  \n",
       "2      13740.12      False  \n",
       "3      39954.04      False  \n",
       "4      32229.38      False  "
      ]
     },
     "execution_count": 17,
     "metadata": {},
     "output_type": "execute_result"
    }
   ],
   "source": [
    "df_final.head()"
   ]
  },
  {
   "cell_type": "code",
   "execution_count": 18,
   "metadata": {},
   "outputs": [
    {
     "data": {
      "text/html": [
       "<div>\n",
       "<style scoped>\n",
       "    .dataframe tbody tr th:only-of-type {\n",
       "        vertical-align: middle;\n",
       "    }\n",
       "\n",
       "    .dataframe tbody tr th {\n",
       "        vertical-align: top;\n",
       "    }\n",
       "\n",
       "    .dataframe thead th {\n",
       "        text-align: right;\n",
       "    }\n",
       "</style>\n",
       "<table border=\"1\" class=\"dataframe\">\n",
       "  <thead>\n",
       "    <tr style=\"text-align: right;\">\n",
       "      <th></th>\n",
       "      <th>Store</th>\n",
       "      <th>Date</th>\n",
       "      <th>Temperature</th>\n",
       "      <th>Fuel_Price</th>\n",
       "      <th>CPI</th>\n",
       "      <th>Unemployment</th>\n",
       "    </tr>\n",
       "  </thead>\n",
       "  <tbody>\n",
       "    <tr>\n",
       "      <th>0</th>\n",
       "      <td>1</td>\n",
       "      <td>2010-02-05</td>\n",
       "      <td>42.31</td>\n",
       "      <td>2.572</td>\n",
       "      <td>211.096358</td>\n",
       "      <td>8.106</td>\n",
       "    </tr>\n",
       "    <tr>\n",
       "      <th>1</th>\n",
       "      <td>1</td>\n",
       "      <td>2010-02-12</td>\n",
       "      <td>38.51</td>\n",
       "      <td>2.548</td>\n",
       "      <td>211.242170</td>\n",
       "      <td>8.106</td>\n",
       "    </tr>\n",
       "    <tr>\n",
       "      <th>2</th>\n",
       "      <td>1</td>\n",
       "      <td>2010-02-19</td>\n",
       "      <td>39.93</td>\n",
       "      <td>2.514</td>\n",
       "      <td>211.289143</td>\n",
       "      <td>8.106</td>\n",
       "    </tr>\n",
       "    <tr>\n",
       "      <th>3</th>\n",
       "      <td>1</td>\n",
       "      <td>2010-02-26</td>\n",
       "      <td>46.63</td>\n",
       "      <td>2.561</td>\n",
       "      <td>211.319643</td>\n",
       "      <td>8.106</td>\n",
       "    </tr>\n",
       "    <tr>\n",
       "      <th>4</th>\n",
       "      <td>1</td>\n",
       "      <td>2010-03-05</td>\n",
       "      <td>46.50</td>\n",
       "      <td>2.625</td>\n",
       "      <td>211.350143</td>\n",
       "      <td>8.106</td>\n",
       "    </tr>\n",
       "  </tbody>\n",
       "</table>\n",
       "</div>"
      ],
      "text/plain": [
       "   Store        Date  Temperature  Fuel_Price         CPI  Unemployment\n",
       "0      1  2010-02-05        42.31       2.572  211.096358         8.106\n",
       "1      1  2010-02-12        38.51       2.548  211.242170         8.106\n",
       "2      1  2010-02-19        39.93       2.514  211.289143         8.106\n",
       "3      1  2010-02-26        46.63       2.561  211.319643         8.106\n",
       "4      1  2010-03-05        46.50       2.625  211.350143         8.106"
      ]
     },
     "execution_count": 18,
     "metadata": {},
     "output_type": "execute_result"
    }
   ],
   "source": [
    "df1.head()"
   ]
  },
  {
   "cell_type": "code",
   "execution_count": 19,
   "metadata": {},
   "outputs": [],
   "source": [
    "# export the new training dataset into local computer\n",
    "\n",
    "df_final.to_csv (r'C:\\Users\\leoyin\\Desktop\\CISC484\\project\\walmart-recruiting-store-sales-forecasting\\\n",
    "training_new.csv', index = False, header=True)"
   ]
  },
  {
   "cell_type": "code",
   "execution_count": 20,
   "metadata": {},
   "outputs": [],
   "source": [
    "df = pd.read_csv('training_new.csv')\n",
    "df['split'] = np.random.randn(df.shape[0], 1)\n",
    "\n",
    "msk = np.random.rand(len(df)) <= 0.7\n",
    "\n",
    "train = df[msk]\n",
    "test = df[~msk]"
   ]
  },
  {
   "cell_type": "code",
   "execution_count": 25,
   "metadata": {},
   "outputs": [],
   "source": [
    "train.to_csv (r'training_new1.csv', index = False, header=True)\n",
    "test.to_csv(r'test_new1.csv', index = False, header=True)"
   ]
  },
  {
   "cell_type": "code",
   "execution_count": 31,
   "metadata": {},
   "outputs": [
    {
     "name": "stdout",
     "output_type": "stream",
     "text": [
      "Empty DataFrame\n",
      "Columns: [Store, Date, Dept, Temperature, Fuel_Price, CPI, Unemployment, Weekly_Sales, IsHoliday, split]\n",
      "Index: []\n",
      "Empty DataFrame\n",
      "Columns: [Store, Date, Dept, Temperature, Fuel_Price, CPI, Unemployment, Weekly_Sales, IsHoliday, split]\n",
      "Index: []\n"
     ]
    }
   ],
   "source": [
    "# find whether the training and testing datasets have missing data or not\n",
    "\n",
    "null_data_training= train[train.isnull().any(axis=1)]\n",
    "null_data_testing = test[test.isnull().any(axis=1)]\n",
    "print(null_data_training)\n",
    "print(null_data_testing)"
   ]
  },
  {
   "cell_type": "code",
   "execution_count": 38,
   "metadata": {},
   "outputs": [],
   "source": [
    "# round each number in dataframe by two decimals\n",
    "\n",
    "train = np.round(train, decimals=2)\n",
    "test = np.round(test, decimals=2)"
   ]
  },
  {
   "cell_type": "code",
   "execution_count": 63,
   "metadata": {},
   "outputs": [],
   "source": [
    "df_training = pd.read_csv('training_new1.csv')"
   ]
  },
  {
   "cell_type": "code",
   "execution_count": 73,
   "metadata": {},
   "outputs": [
    {
     "data": {
      "text/plain": [
       "Store           int64\n",
       "Date            int64\n",
       "Dept            int64\n",
       "Temperature     int64\n",
       "Fuel_Price      int64\n",
       "CPI             int64\n",
       "Unemployment    int64\n",
       "Weekly_Sales    int64\n",
       "IsHoliday       int64\n",
       "dtype: object"
      ]
     },
     "execution_count": 73,
     "metadata": {},
     "output_type": "execute_result"
    }
   ],
   "source": [
    "\n",
    "df_training=df_training.replace('/','',regex=True).astype(int)\n",
    "df_training.to_csv (r'training_new2.csv', index = False, header=True)\n",
    "df_training.head()\n",
    "df_training.dtypes\n",
    "#df_training['Date'] = df_training['Date'].astype(int)"
   ]
  },
  {
   "cell_type": "code",
   "execution_count": 209,
   "metadata": {},
   "outputs": [
    {
     "name": "stdout",
     "output_type": "stream",
     "text": [
      "  X[:,0] X[:, 1]         y\n",
      "--------------------------\n",
      "    7.00111811.00      5.00\n",
      "    2.0030510.00  39883.00\n",
      "    1.0022511.00   7274.00\n",
      "    3.0052110.00   7061.00\n",
      "    7.00111210.00   4514.00\n",
      "    7.00121710.00  11523.00\n",
      "    4.0010711.00  64561.00\n",
      "    2.0092410.00   3306.00\n",
      "    4.0061512.00  16339.00\n",
      "    2.00101510.00   5939.00\n"
     ]
    }
   ],
   "source": [
    "data_path = os.path.join('data','training_new2.txt')\n",
    "numbers = np.loadtxt(data_path, delimiter='\\t')\n",
    "#strings = np.loadtxt('./data/data.txt', delimiter='\\t', usecols=[8])\n",
    "\n",
    "# We want to predict 'mpg'(1th column) based on 'horsepower'(4rd column)\n",
    "X = numbers[:,0:8]\n",
    "y = numbers[:,8]\n",
    "#X = X[0:10000]\n",
    "#y = y[0:10000]\n",
    "m = y.size # the number of data examples\n",
    "\n",
    "# print out some data points\n",
    "print('{:>8s}{:>8s}{:>10s}'.format('X[:,0]', 'X[:, 1]', 'y'))\n",
    "print('-'*26)\n",
    "for i in range(10):\n",
    "    print('{:8.2f}{:8.2f}{:10.2f}'.format(X[i, 0], X[i, 1], y[i]))\n",
    "\n"
   ]
  },
  {
   "cell_type": "code",
   "execution_count": 210,
   "metadata": {},
   "outputs": [
    {
     "name": "stdout",
     "output_type": "stream",
     "text": [
      "[5.0000e+00 3.9883e+04 7.2740e+03 ... 6.9806e+04 4.0699e+04 3.1928e+04]\n"
     ]
    }
   ],
   "source": [
    "print(y)"
   ]
  },
  {
   "cell_type": "code",
   "execution_count": 211,
   "metadata": {},
   "outputs": [],
   "source": [
    "# [CHECKPOINT 5][5 points]\n",
    "def  feature_normalization_multiple(X):\n",
    "    \"\"\"\n",
    "    Normalizes the features in X. returns a normalized version of X where\n",
    "    the mean value of each feature is 0 and the standard deviation\n",
    "    is 1. This is often a good preprocessing step to do when working with\n",
    "    learning algorithms.\n",
    "    \n",
    "    Parameters\n",
    "    ----------\n",
    "    X : array_like\n",
    "        The dataset of shape (m x n).\n",
    "    \n",
    "    Returns\n",
    "    -------\n",
    "    X_norm : array_like\n",
    "        The normalized dataset of shape (m x n).\n",
    "    \n",
    "    Instructions\n",
    "    ------------\n",
    "    First, for each feature dimension, compute the mean of the feature\n",
    "    and subtract it from the dataset, storing the mean value in mu. \n",
    "    Next, compute the  standard deviation of each feature and divide\n",
    "    each feature by it's standard deviation, storing the standard deviation \n",
    "    in sigma. \n",
    "    \n",
    "    Note that X is a matrix where each column is a feature and each row is\n",
    "    an example. You needto perform the normalization separately for each feature. \n",
    "    \n",
    "    Hint\n",
    "    ----\n",
    "    You might find the 'np.mean' and 'np.std' functions useful.\n",
    "    \"\"\"\n",
    "    # You need to set these values correctly\n",
    "    X_norm = X.copy()\n",
    "    mu = np.zeros(X.shape[1])\n",
    "    sigma = np.zeros(X.shape[1])\n",
    "\n",
    "    # =========================== YOUR CODE HERE =====================\n",
    "    mu[0] = np.mean(X[:,0])\n",
    "    mu[1] = np.mean(X[:,1])\n",
    "    mu[2] = np.mean(X[:,2])\n",
    "    mu[3] = np.mean(X[:,3])\n",
    "    mu[4] = np.mean(X[:,4])\n",
    "    mu[5] = np.mean(X[:,5])\n",
    "    mu[6] = np.mean(X[:,6])\n",
    "    mu[7] = np.mean(X[:,7])\n",
    "    \n",
    "    sigma[0] = np.std(X[:,0])\n",
    "    sigma[1] = np.std(X[:,1])\n",
    "    sigma[2] = np.std(X[:,2])\n",
    "    sigma[3] = np.std(X[:,3])\n",
    "    sigma[4] = np.std(X[:,4])\n",
    "    sigma[5] = np.std(X[:,5])\n",
    "    sigma[6] = np.std(X[:,6])\n",
    "    sigma[7] = np.std(X[:,7])\n",
    "    \n",
    "    for i in range(m):\n",
    "        X_norm[i][0] = (X_norm[i][0] - mu[0]) / sigma[0]\n",
    "        X_norm[i][1] = (X_norm[i][1] - mu[1]) / sigma[1]\n",
    "        X_norm[i][2] = (X_norm[i][2] - mu[2]) / sigma[2]\n",
    "        X_norm[i][3] = (X_norm[i][3] - mu[3]) / sigma[3]\n",
    "        X_norm[i][4] = (X_norm[i][4] - mu[4]) / sigma[4]\n",
    "        X_norm[i][5] = (X_norm[i][5] - mu[5]) / sigma[5]\n",
    "        X_norm[i][6] = (X_norm[i][6] - mu[6]) / sigma[6]\n",
    "        X_norm[i][7] = (X_norm[i][7] - mu[7]) / sigma[7]\n",
    "    \n",
    "    # x_norm = (x - np.mean(x))/np.std(x)\n",
    "    \n",
    "    # ================================================================\n",
    "    return X_norm, mu, sigma"
   ]
  },
  {
   "cell_type": "code",
   "execution_count": 212,
   "metadata": {},
   "outputs": [
    {
     "name": "stdout",
     "output_type": "stream",
     "text": [
      "Computed mean: [3.87157803e+00 6.56364862e+04 4.35151264e+01 6.38927419e+01\n",
      " 2.62901046e+00 1.99985004e+02 6.58565824e+00 7.31255449e-02]\n",
      "Computed standard deviation: [1.97010868e+00 3.27600813e+04 2.98238045e+01 1.81689921e+01\n",
      " 4.83069664e-01 3.19033003e+01 1.13616697e+00 2.60342466e-01]\n",
      "X_norm[:,0]X_norm[:, 1]         y\n",
      "--------------------------\n",
      "    1.59    1.41      5.00\n",
      "   -0.95   -1.07  39883.00\n",
      "   -1.46   -1.32   7274.00\n",
      "   -0.44   -0.41   7061.00\n",
      "    1.59    1.39   4514.00\n",
      "    1.59    1.71  11523.00\n",
      "    0.07   -1.68  64561.00\n",
      "   -0.95    0.82   3306.00\n",
      "    0.07   -0.13  16339.00\n",
      "   -0.95    1.10   5939.00\n"
     ]
    }
   ],
   "source": [
    "# call featureNormalize on the loaded data\n",
    "X_norm, mu, sigma = feature_normalization_multiple(X)\n",
    "\n",
    "print('Computed mean:', mu)\n",
    "print('Computed standard deviation:', sigma)\n",
    "\n",
    "# print out some data points\n",
    "print('{:>8s}{:>8s}{:>10s}'.format('X_norm[:,0]', 'X_norm[:, 1]', 'y'))\n",
    "print('-'*26)\n",
    "for i in range(10):\n",
    "    print('{:8.2f}{:8.2f}{:10.2f}'.format(X_norm[i, 0], X_norm[i, 1], y[i]))"
   ]
  },
  {
   "cell_type": "code",
   "execution_count": 213,
   "metadata": {},
   "outputs": [],
   "source": [
    "# Add intercept term to X\n",
    "X = np.concatenate([np.ones((m, 1)), X_norm], axis=1)"
   ]
  },
  {
   "cell_type": "code",
   "execution_count": 214,
   "metadata": {},
   "outputs": [],
   "source": [
    "# [CHECKPOINT 6][8 points]\n",
    "def compute_cost_multiple(X, y, theta):\n",
    "    \"\"\"\n",
    "    Compute cost for linear regression with multiple variables.\n",
    "    Computes the cost of using theta as the parameter for linear regression to fit the data points in X and y.\n",
    "    \n",
    "    Parameters\n",
    "    ----------\n",
    "    X : array_like\n",
    "        The dataset of shape (m x n+1).\n",
    "    \n",
    "    y : array_like\n",
    "        A vector of shape (m, ) for the values at a given data point.\n",
    "    \n",
    "    theta : array_like\n",
    "        The linear regression parameters. A vector of shape (n+1, )\n",
    "    \n",
    "    Returns\n",
    "    -------\n",
    "    J : float\n",
    "        The value of the cost function. \n",
    "    \n",
    "    Instructions\n",
    "    ------------\n",
    "    Compute the cost of a particular choice of theta. You should set J to the cost.\n",
    "    \"\"\"\n",
    "    # Initialize some useful values\n",
    "    m = y.shape[0] # number of training examples\n",
    "    \n",
    "    # You need to return the following variable correctly\n",
    "    J = 0\n",
    "    \n",
    "    # ======================= YOUR CODE HERE ===========================\n",
    "    #temp = np.dot(X, theta) - y\n",
    "    #J = np.sum(np.power(temp, 2)) / (2*m)\n",
    "    \n",
    "    h = np.dot(X, theta)\n",
    "    sq_error = np.sum(np.square(h - y))\n",
    "    J = (sq_error) / (2 * m)\n",
    "    \n",
    "    # ==================================================================\n",
    "    return J"
   ]
  },
  {
   "cell_type": "code",
   "execution_count": 215,
   "metadata": {},
   "outputs": [],
   "source": [
    "# [CHECKPOINT 7][8 points]\n",
    "def gradient_descent_multiple(X, y, theta, alpha, num_iters):\n",
    "    \"\"\"\n",
    "    Performs gradient descent to learn theta.\n",
    "    Updates theta by taking num_iters gradient steps with learning rate alpha.\n",
    "        \n",
    "    Parameters\n",
    "    ----------\n",
    "    X : array_like\n",
    "        The dataset of shape (m x n+1).\n",
    "    \n",
    "    y : array_like\n",
    "        A vector of shape (m, ) for the values at a given data point.\n",
    "    \n",
    "    theta : array_like\n",
    "        The linear regression parameters. A vector of shape (n+1, )\n",
    "    \n",
    "    alpha : float\n",
    "        The learning rate for gradient descent. \n",
    "    \n",
    "    num_iters : int\n",
    "        The number of iterations to run gradient descent. \n",
    "    \n",
    "    Returns\n",
    "    -------\n",
    "    theta : array_like\n",
    "        The learned linear regression parameters. A vector of shape (n+1, ).\n",
    "    \n",
    "    J_history : list\n",
    "        A python list for the values of the cost function after each iteration.\n",
    "    \n",
    "    Instructions\n",
    "    ------------\n",
    "    Peform a single gradient step on the parameter vector theta.\n",
    "\n",
    "    While debugging, it can be useful to print out the values of \n",
    "    the cost function (computeCost) and gradient here.\n",
    "    \"\"\"\n",
    "    # Initialize some useful values\n",
    "    m = y.shape[0] # number of training examples\n",
    "    \n",
    "    # make a copy of theta, which will be updated by gradient descent\n",
    "    theta = theta.copy()\n",
    "    \n",
    "    J_history = []\n",
    "    for i in range(num_iters):\n",
    "        # ======================= YOUR CODE HERE ==========================\n",
    "        h = np.dot(X, theta)\n",
    "        theta = theta - ((alpha / m) * (np.dot(X.T, (h - y))))\n",
    "\n",
    "        # =================================================================\n",
    "        \n",
    "        # save the cost J in every iteration\n",
    "        J_history.append(compute_cost_multiple(X, y, theta))\n",
    "    \n",
    "    return theta, J_history"
   ]
  },
  {
   "cell_type": "code",
   "execution_count": 216,
   "metadata": {},
   "outputs": [
    {
     "name": "stdout",
     "output_type": "stream",
     "text": [
      "theta computed from gradient descent: [ 1.79094880e+04 -4.13472814e+03  6.57862619e+02  4.81123705e+03\n",
      "  1.36594774e-01  5.20709949e+02 -4.45128243e+03 -6.21210447e+02\n",
      "  1.62918901e+02]\n"
     ]
    },
    {
     "data": {
      "image/png": "[encoded data removed]",
      "text/plain": [
       "<Figure size 432x288 with 1 Axes>"
      ]
     },
     "metadata": {
      "needs_background": "light"
     },
     "output_type": "display_data"
    }
   ],
   "source": [
    "\"\"\"\n",
    "Instructions\n",
    "------------\n",
    "We have provided you with the following starter code that runs\n",
    "gradient descent with a particular learning rate (alpha). \n",
    "\n",
    "Your task is to first make sure that your functions - `compute_cost`\n",
    "and `gradient_descent` already work with  this starter code and\n",
    "support multiple variables.\n",
    "\n",
    "After that, try running gradient descent with different values of\n",
    "alpha and see which one gives you the best result.\n",
    "\"\"\"\n",
    "# Choose some alpha value - change this\n",
    "alpha = 0.1\n",
    "num_iters = 200\n",
    "\n",
    "# init theta and run gradient descent\n",
    "theta = np.zeros(9)\n",
    "theta, J_history = gradient_descent_multiple(X, y, theta, alpha, num_iters)\n",
    "\n",
    "# Plot the convergence graph\n",
    "plt.plot(np.arange(len(J_history)), J_history, lw=2)\n",
    "plt.xlabel('Number of iterations')\n",
    "plt.ylabel('Cost J')\n",
    "\n",
    "# Display the gradient descent's result\n",
    "print('theta computed from gradient descent: {:s}'.format(str(theta)))"
   ]
  },
  {
   "cell_type": "code",
   "execution_count": 239,
   "metadata": {},
   "outputs": [
    {
     "name": "stdout",
     "output_type": "stream",
     "text": [
      "  X[:,0] X[:, 1]         y\n",
      "--------------------------\n",
      "    1.00    1.59      5.00\n",
      "    1.00   -0.95  39883.00\n",
      "    1.00   -1.46   7274.00\n",
      "    1.00   -0.44   7061.00\n",
      "    1.00    1.59   4514.00\n",
      "    1.00    1.59  11523.00\n",
      "    1.00    0.07  64561.00\n",
      "    1.00   -0.95   3306.00\n",
      "    1.00    0.07  16339.00\n",
      "    1.00   -0.95   5939.00\n",
      "[[7.00000e+00 1.11811e+05 4.50000e+01 ... 1.95000e+02 8.00000e+00\n",
      "  0.00000e+00]\n",
      " [2.00000e+00 3.05100e+04 1.00000e+01 ... 2.11000e+02 8.00000e+00\n",
      "  0.00000e+00]\n",
      " [1.00000e+00 2.25110e+04 2.10000e+01 ... 2.13000e+02 7.00000e+00\n",
      "  0.00000e+00]\n",
      " ...\n",
      " [2.00000e+00 6.08120e+04 3.80000e+01 ... 2.21000e+02 6.00000e+00\n",
      "  0.00000e+00]\n",
      " [4.00000e+00 4.20120e+04 4.60000e+01 ... 1.31000e+02 4.00000e+00\n",
      "  0.00000e+00]\n",
      " [6.00000e+00 5.21100e+04 7.00000e+00 ... 2.12000e+02 7.00000e+00\n",
      "  0.00000e+00]]\n",
      "[5.0000e+00 3.9883e+04 7.2740e+03 ... 6.9806e+04 4.0699e+04 3.1928e+04]\n"
     ]
    }
   ],
   "source": [
    "data_path = os.path.join('data','training_new2.txt')\n",
    "numbers = np.loadtxt(data_path, delimiter='\\t')\n",
    "#strings = np.loadtxt('./data/data.txt', delimiter='\\t', usecols=[8])\n",
    "\n",
    "# We want to predict 'mpg'(1th column) based on 'horsepower'(4rd column)\n",
    "X_data = numbers[:,0:8]\n",
    "Y_data = numbers[:,8]\n",
    "#X = X[0:10000]\n",
    "#y = y[0:10000]\n",
    "m = y.size # the number of data examples\n",
    "\n",
    "# print out some data points\n",
    "print('{:>8s}{:>8s}{:>10s}'.format('X[:,0]', 'X[:, 1]', 'y'))\n",
    "print('-'*26)\n",
    "for i in range(10):\n",
    "    print('{:8.2f}{:8.2f}{:10.2f}'.format(X[i, 0], X[i, 1], y[i]))\n",
    "    \n",
    "print((X_data))\n",
    "print((Y_data))"
   ]
  },
  {
   "cell_type": "code",
   "execution_count": 240,
   "metadata": {},
   "outputs": [],
   "source": [
    "def normal_equation(X, Y, n):\n",
    "    \"\"\"\n",
    "    Computes the closed-form solution to linear regression using the normal equations.\n",
    "    \n",
    "    Parameters\n",
    "    ----------\n",
    "    X : array_like\n",
    "        The dataset of shape (m, ).\n",
    "    \n",
    "    Y : array_like\n",
    "        The value at each data point. A vector of shape (m, ).\n",
    "        \n",
    "    n : the order of polynomial regression model\n",
    "        Remember the number of features will be n+1.\n",
    "    \n",
    "    Returns\n",
    "    -------\n",
    "    theta : array_like\n",
    "        Estimated polynomial regression parameters. A vector of shape (n+1, ).\n",
    "    \n",
    "    Instructions\n",
    "    ------------\n",
    "    Complete the code to compute the closed form solution to linear\n",
    "    regression and put the result in theta.\n",
    "    \n",
    "    Hint\n",
    "    ----\n",
    "    Look up the function `np.linalg.pinv` for computing matrix inverse.\n",
    "    \"\"\"\n",
    "    m = X.size\n",
    "    theta = np.zeros(n+1)\n",
    "    \n",
    "    # ===================== YOUR CODE HERE ============================\n",
    "    X_col = X[:m].reshape(m,1)\n",
    "    X_poly = np.power(X_col, np.arange(n+1))\n",
    "    Y_col = Y[:m].reshape(m,1)\n",
    "    \n",
    "    XT=np.transpose(X_poly)\n",
    "    XTX=XT.dot(X_poly)\n",
    "    inv=np.linalg.inv(XTX)\n",
    "    inv_XT=inv.dot(XT)\n",
    "\n",
    "    theta = inv_XT.dot(Y_col)\n",
    "    \n",
    "        \n",
    "    # =================================================================\n",
    "    return theta.flatten()\n"
   ]
  },
  {
   "cell_type": "code",
   "execution_count": 241,
   "metadata": {},
   "outputs": [],
   "source": [
    "def polynomial_deploy(X, theta):\n",
    "    \"\"\"\n",
    "    Computes the polynomial regression prediction for data X.\n",
    "    \n",
    "    Parameters\n",
    "    ----------\n",
    "    X : array_like\n",
    "        The input data. A vector of shape (m, ).\n",
    "    \n",
    "    theta : array_like\n",
    "        Polynomial regression parameters. A vector of shape (n+1, ).\n",
    "    \n",
    "    Returns\n",
    "    -------\n",
    "    Y : array_like\n",
    "        Polynomial prediction. A vector of shape (m, ).\n",
    "    \n",
    "    \"\"\"\n",
    "    m = X.size\n",
    "    n = theta.size - 1\n",
    "    \n",
    "    # ===================== YOUR CODE HERE ============================\n",
    "    X_col = X[:m].reshape(m,1)\n",
    "    X_poly = np.power(X_col, np.arange(n+1))\n",
    "    theta_col = theta[:n+1].reshape(n+1,1)\n",
    "    \n",
    "    Y = X_poly.dot(theta_col)\n",
    "    # ===================== YOUR CODE HERE ============================\n",
    "    \n",
    "    return Y.flatten()"
   ]
  },
  {
   "cell_type": "code",
   "execution_count": 245,
   "metadata": {},
   "outputs": [
    {
     "ename": "IndentationError",
     "evalue": "unexpected indent (<ipython-input-245-0c2d5c7424ba>, line 15)",
     "output_type": "error",
     "traceback": [
      "\u001b[0;36m  File \u001b[0;32m\"<ipython-input-245-0c2d5c7424ba>\"\u001b[0;36m, line \u001b[0;32m15\u001b[0m\n\u001b[0;31m    theta = normal_equation(X_data, Y_data, 9)\u001b[0m\n\u001b[0m    ^\u001b[0m\n\u001b[0;31mIndentationError\u001b[0m\u001b[0;31m:\u001b[0m unexpected indent\n"
     ]
    }
   ],
   "source": [
    "# You mush use loop to traverse the combinations of m and n\n",
    "#\n",
    "# Hint for debug:\n",
    "# A quick way to check if your implementation is correct is to use 'np.polyfit'\n",
    "# e.g. theta2 = np.polyfit(X_data, Y_data, n)\n",
    "# Check if 'theta' estimated by normal_equation() is the same as 'theta2' \n",
    "#\n",
    "#for i in [100, 500, 1000, 2000]:\n",
    "#for n in [0, 1, 2, 3, 9]:\n",
    "   # subset_index = np.random.randint(0, X_data.size, m)\n",
    "   # X_subset = X_data[subset_index]\n",
    "   # Y_subset = Y_data[subset_index]\n",
    "        \n",
    "    # ===================== YOUR CODE HERE ============================\n",
    "    theta = normal_equation(X_data, Y_data, 9)\n",
    "    Y_predict = polynomial_deploy(X_data, theta)\n",
    "    MSE = np.square(np.subtract(Y_data,Y_predict)).mean()\n",
    "                        \n",
    "    print('The order of polynomial: %d' % n)\n",
    "    print('Theta:')\n",
    "    print(theta)\n",
    "    print('MSE: %.8f' % MSE)\n",
    "        \n",
    "    # plot the polynomial curve\n",
    "    plt.figure()\n",
    "    plt.title('m=%d, n=%d, MSE=%.8f' % (m, n, MSE))\n",
    "    plt.plot(X_data, Y_data, 'b+')\n",
    "    X_plot = np.arange(0,1,0.01)\n",
    "    Y_plot = polynomial_deploy(X_plot, theta)\n",
    "    plt.plot(X_plot, Y_plot, 'r-')          \n",
    "    # =================================================================\n"
   ]
  },
  {
   "cell_type": "code",
   "execution_count": 829,
   "metadata": {},
   "outputs": [
    {
     "data": {
      "text/html": [
       "<div>\n",
       "<style scoped>\n",
       "    .dataframe tbody tr th:only-of-type {\n",
       "        vertical-align: middle;\n",
       "    }\n",
       "\n",
       "    .dataframe tbody tr th {\n",
       "        vertical-align: top;\n",
       "    }\n",
       "\n",
       "    .dataframe thead th {\n",
       "        text-align: right;\n",
       "    }\n",
       "</style>\n",
       "<table border=\"1\" class=\"dataframe\">\n",
       "  <thead>\n",
       "    <tr style=\"text-align: right;\">\n",
       "      <th></th>\n",
       "      <th>Store</th>\n",
       "      <th>Date</th>\n",
       "      <th>Dept</th>\n",
       "      <th>Temperature</th>\n",
       "      <th>Fuel_Price</th>\n",
       "      <th>CPI</th>\n",
       "      <th>Unemployment</th>\n",
       "      <th>IsHoliday</th>\n",
       "      <th>Weekly_Sales</th>\n",
       "    </tr>\n",
       "  </thead>\n",
       "  <tbody>\n",
       "    <tr>\n",
       "      <th>0</th>\n",
       "      <td>7</td>\n",
       "      <td>111811</td>\n",
       "      <td>45</td>\n",
       "      <td>29</td>\n",
       "      <td>3</td>\n",
       "      <td>195</td>\n",
       "      <td>8</td>\n",
       "      <td>0</td>\n",
       "      <td>5</td>\n",
       "    </tr>\n",
       "    <tr>\n",
       "      <th>1</th>\n",
       "      <td>2</td>\n",
       "      <td>30510</td>\n",
       "      <td>10</td>\n",
       "      <td>47</td>\n",
       "      <td>2</td>\n",
       "      <td>211</td>\n",
       "      <td>8</td>\n",
       "      <td>0</td>\n",
       "      <td>39883</td>\n",
       "    </tr>\n",
       "    <tr>\n",
       "      <th>2</th>\n",
       "      <td>1</td>\n",
       "      <td>22511</td>\n",
       "      <td>21</td>\n",
       "      <td>62</td>\n",
       "      <td>3</td>\n",
       "      <td>213</td>\n",
       "      <td>7</td>\n",
       "      <td>0</td>\n",
       "      <td>7274</td>\n",
       "    </tr>\n",
       "    <tr>\n",
       "      <th>3</th>\n",
       "      <td>3</td>\n",
       "      <td>52110</td>\n",
       "      <td>4</td>\n",
       "      <td>75</td>\n",
       "      <td>2</td>\n",
       "      <td>213</td>\n",
       "      <td>7</td>\n",
       "      <td>0</td>\n",
       "      <td>7061</td>\n",
       "    </tr>\n",
       "    <tr>\n",
       "      <th>4</th>\n",
       "      <td>7</td>\n",
       "      <td>111210</td>\n",
       "      <td>79</td>\n",
       "      <td>22</td>\n",
       "      <td>2</td>\n",
       "      <td>191</td>\n",
       "      <td>9</td>\n",
       "      <td>0</td>\n",
       "      <td>4514</td>\n",
       "    </tr>\n",
       "  </tbody>\n",
       "</table>\n",
       "</div>"
      ],
      "text/plain": [
       "   Store    Date  Dept  Temperature  Fuel_Price  CPI  Unemployment  IsHoliday  \\\n",
       "0      7  111811    45           29           3  195             8          0   \n",
       "1      2   30510    10           47           2  211             8          0   \n",
       "2      1   22511    21           62           3  213             7          0   \n",
       "3      3   52110     4           75           2  213             7          0   \n",
       "4      7  111210    79           22           2  191             9          0   \n",
       "\n",
       "   Weekly_Sales  \n",
       "0             5  \n",
       "1         39883  \n",
       "2          7274  \n",
       "3          7061  \n",
       "4          4514  "
      ]
     },
     "execution_count": 829,
     "metadata": {},
     "output_type": "execute_result"
    }
   ],
   "source": [
    "data1 = pd.read_csv(\"training_new2.csv\")\n",
    "#data1 = data1.sample(n=10000)\n",
    "data1.head()"
   ]
  },
  {
   "cell_type": "code",
   "execution_count": 830,
   "metadata": {},
   "outputs": [
    {
     "data": {
      "text/html": [
       "<div>\n",
       "<style scoped>\n",
       "    .dataframe tbody tr th:only-of-type {\n",
       "        vertical-align: middle;\n",
       "    }\n",
       "\n",
       "    .dataframe tbody tr th {\n",
       "        vertical-align: top;\n",
       "    }\n",
       "\n",
       "    .dataframe thead th {\n",
       "        text-align: right;\n",
       "    }\n",
       "</style>\n",
       "<table border=\"1\" class=\"dataframe\">\n",
       "  <thead>\n",
       "    <tr style=\"text-align: right;\">\n",
       "      <th></th>\n",
       "      <th>Store</th>\n",
       "      <th>Date</th>\n",
       "      <th>Dept</th>\n",
       "      <th>Temperature</th>\n",
       "      <th>Fuel_Price</th>\n",
       "      <th>CPI</th>\n",
       "      <th>Unemployment</th>\n",
       "      <th>IsHoliday</th>\n",
       "      <th>Weekly_Sales</th>\n",
       "    </tr>\n",
       "  </thead>\n",
       "  <tbody>\n",
       "    <tr>\n",
       "      <th>Store</th>\n",
       "      <td>1.000000</td>\n",
       "      <td>0.012354</td>\n",
       "      <td>-0.016976</td>\n",
       "      <td>-0.154480</td>\n",
       "      <td>-0.042076</td>\n",
       "      <td>-0.099976</td>\n",
       "      <td>0.649509</td>\n",
       "      <td>-0.008408</td>\n",
       "      <td>-0.031052</td>\n",
       "    </tr>\n",
       "    <tr>\n",
       "      <th>Date</th>\n",
       "      <td>0.012354</td>\n",
       "      <td>1.000000</td>\n",
       "      <td>0.004022</td>\n",
       "      <td>0.158961</td>\n",
       "      <td>-0.150167</td>\n",
       "      <td>0.062598</td>\n",
       "      <td>0.089607</td>\n",
       "      <td>0.022172</td>\n",
       "      <td>0.013696</td>\n",
       "    </tr>\n",
       "    <tr>\n",
       "      <th>Dept</th>\n",
       "      <td>-0.016976</td>\n",
       "      <td>0.004022</td>\n",
       "      <td>1.000000</td>\n",
       "      <td>0.003969</td>\n",
       "      <td>-0.005479</td>\n",
       "      <td>0.002875</td>\n",
       "      <td>-0.004265</td>\n",
       "      <td>-0.002898</td>\n",
       "      <td>0.045509</td>\n",
       "    </tr>\n",
       "    <tr>\n",
       "      <th>Temperature</th>\n",
       "      <td>-0.154480</td>\n",
       "      <td>0.158961</td>\n",
       "      <td>0.003969</td>\n",
       "      <td>1.000000</td>\n",
       "      <td>-0.069875</td>\n",
       "      <td>0.014348</td>\n",
       "      <td>-0.111013</td>\n",
       "      <td>0.014831</td>\n",
       "      <td>-0.000794</td>\n",
       "    </tr>\n",
       "    <tr>\n",
       "      <th>Fuel_Price</th>\n",
       "      <td>-0.042076</td>\n",
       "      <td>-0.150167</td>\n",
       "      <td>-0.005479</td>\n",
       "      <td>-0.069875</td>\n",
       "      <td>1.000000</td>\n",
       "      <td>-0.367665</td>\n",
       "      <td>-0.392177</td>\n",
       "      <td>0.022067</td>\n",
       "      <td>-0.008341</td>\n",
       "    </tr>\n",
       "    <tr>\n",
       "      <th>CPI</th>\n",
       "      <td>-0.099976</td>\n",
       "      <td>0.062598</td>\n",
       "      <td>0.002875</td>\n",
       "      <td>0.014348</td>\n",
       "      <td>-0.367665</td>\n",
       "      <td>1.000000</td>\n",
       "      <td>0.191531</td>\n",
       "      <td>-0.040715</td>\n",
       "      <td>-0.044673</td>\n",
       "    </tr>\n",
       "    <tr>\n",
       "      <th>Unemployment</th>\n",
       "      <td>0.649509</td>\n",
       "      <td>0.089607</td>\n",
       "      <td>-0.004265</td>\n",
       "      <td>-0.111013</td>\n",
       "      <td>-0.392177</td>\n",
       "      <td>0.191531</td>\n",
       "      <td>1.000000</td>\n",
       "      <td>-0.033286</td>\n",
       "      <td>-0.008039</td>\n",
       "    </tr>\n",
       "    <tr>\n",
       "      <th>IsHoliday</th>\n",
       "      <td>-0.008408</td>\n",
       "      <td>0.022172</td>\n",
       "      <td>-0.002898</td>\n",
       "      <td>0.014831</td>\n",
       "      <td>0.022067</td>\n",
       "      <td>-0.040715</td>\n",
       "      <td>-0.033286</td>\n",
       "      <td>1.000000</td>\n",
       "      <td>-0.000570</td>\n",
       "    </tr>\n",
       "    <tr>\n",
       "      <th>Weekly_Sales</th>\n",
       "      <td>-0.031052</td>\n",
       "      <td>0.013696</td>\n",
       "      <td>0.045509</td>\n",
       "      <td>-0.000794</td>\n",
       "      <td>-0.008341</td>\n",
       "      <td>-0.044673</td>\n",
       "      <td>-0.008039</td>\n",
       "      <td>-0.000570</td>\n",
       "      <td>1.000000</td>\n",
       "    </tr>\n",
       "  </tbody>\n",
       "</table>\n",
       "</div>"
      ],
      "text/plain": [
       "                 Store      Date      Dept  Temperature  Fuel_Price       CPI  \\\n",
       "Store         1.000000  0.012354 -0.016976    -0.154480   -0.042076 -0.099976   \n",
       "Date          0.012354  1.000000  0.004022     0.158961   -0.150167  0.062598   \n",
       "Dept         -0.016976  0.004022  1.000000     0.003969   -0.005479  0.002875   \n",
       "Temperature  -0.154480  0.158961  0.003969     1.000000   -0.069875  0.014348   \n",
       "Fuel_Price   -0.042076 -0.150167 -0.005479    -0.069875    1.000000 -0.367665   \n",
       "CPI          -0.099976  0.062598  0.002875     0.014348   -0.367665  1.000000   \n",
       "Unemployment  0.649509  0.089607 -0.004265    -0.111013   -0.392177  0.191531   \n",
       "IsHoliday    -0.008408  0.022172 -0.002898     0.014831    0.022067 -0.040715   \n",
       "Weekly_Sales -0.031052  0.013696  0.045509    -0.000794   -0.008341 -0.044673   \n",
       "\n",
       "              Unemployment  IsHoliday  Weekly_Sales  \n",
       "Store             0.649509  -0.008408     -0.031052  \n",
       "Date              0.089607   0.022172      0.013696  \n",
       "Dept             -0.004265  -0.002898      0.045509  \n",
       "Temperature      -0.111013   0.014831     -0.000794  \n",
       "Fuel_Price       -0.392177   0.022067     -0.008341  \n",
       "CPI               0.191531  -0.040715     -0.044673  \n",
       "Unemployment      1.000000  -0.033286     -0.008039  \n",
       "IsHoliday        -0.033286   1.000000     -0.000570  \n",
       "Weekly_Sales     -0.008039  -0.000570      1.000000  "
      ]
     },
     "execution_count": 830,
     "metadata": {},
     "output_type": "execute_result"
    }
   ],
   "source": [
    "# getting the correlation matrix\n",
    "data1.apply(lambda x: x.factorize()[0]).corr()"
   ]
  },
  {
   "cell_type": "code",
   "execution_count": 831,
   "metadata": {},
   "outputs": [],
   "source": [
    "# drog the high correlated features\n",
    "\n",
    "def correlation(data_set, threshold):\n",
    "    col_set = set() #store the name of correlated column\n",
    "    corr_matrix = data_set.corr()\n",
    "    for i in range (len(corr_matrix.columns)):\n",
    "        for j in range (i):\n",
    "            if abs(corr_matrix.iloc[i,j])>threshold:\n",
    "                col_name = corr_matrix.columns[i]\n",
    "                col_set.add(col_name)\n",
    "    return col_set"
   ]
  },
  {
   "cell_type": "code",
   "execution_count": 832,
   "metadata": {},
   "outputs": [
    {
     "data": {
      "text/plain": [
       "{'Temperature', 'Unemployment'}"
      ]
     },
     "execution_count": 832,
     "metadata": {},
     "output_type": "execute_result"
    }
   ],
   "source": [
    "# finding the name of column we want to remove\n",
    "\n",
    "corr_feature = correlation(data1,0.30)\n",
    "corr_feature"
   ]
  },
  {
   "cell_type": "code",
   "execution_count": 833,
   "metadata": {},
   "outputs": [
    {
     "data": {
      "text/plain": [
       "Index(['Store', 'Date', 'Dept', 'Temperature', 'Fuel_Price', 'CPI',\n",
       "       'Unemployment', 'IsHoliday', 'Weekly_Sales'],\n",
       "      dtype='object')"
      ]
     },
     "execution_count": 833,
     "metadata": {},
     "output_type": "execute_result"
    }
   ],
   "source": [
    "data1.columns"
   ]
  },
  {
   "cell_type": "code",
   "execution_count": 834,
   "metadata": {},
   "outputs": [
    {
     "name": "stdout",
     "output_type": "stream",
     "text": [
      "(45880,)\n",
      "(45880,)\n",
      "(45880,)\n",
      "(45880,)\n",
      "(45880,)\n",
      "(45880,)\n",
      "(45880,)\n"
     ]
    }
   ],
   "source": [
    "# Read the columns into a variable\n",
    "\n",
    "x1 = data1[\"Store\"]\n",
    "#x2 = data1[\"Date\"]\n",
    "x2 = data1[\"Dept\"]\n",
    "x3 = data1[\"Temperature\"]\n",
    "x4 = data1[\"Fuel_Price\"]\n",
    "x5 = data1[\"CPI\"]\n",
    "x6 = data1[\"Unemployment\"]\n",
    "x7 = data1[\"IsHoliday\"]\n",
    "y = data1[\"Weekly_Sales\"]\n",
    "m=y.size\n",
    "print(x1.shape)\n",
    "#print(x2.shape)\n",
    "print(x2.shape)\n",
    "print(x3.shape)\n",
    "print(x4.shape)\n",
    "print(x5.shape)\n",
    "print(x6.shape)\n",
    "print(x7.shape)"
   ]
  },
  {
   "cell_type": "code",
   "execution_count": 802,
   "metadata": {},
   "outputs": [
    {
     "data": {
      "text/plain": [
       "Text(0, 0.5, 'Weekly_Sales')"
      ]
     },
     "execution_count": 802,
     "metadata": {},
     "output_type": "execute_result"
    },
    {
     "data": {
      "image/png": "[encoded data removed]",
      "text/plain": [
       "<Figure size 432x288 with 1 Axes>"
      ]
     },
     "metadata": {
      "needs_background": "light"
     },
     "output_type": "display_data"
    }
   ],
   "source": [
    "#Plot the data on scatter plot:\n",
    "#plot Store vs Weekly_Sales:\n",
    "plt.scatter(x1,y)\n",
    "plt.xlabel(\"Store\")\n",
    "plt.ylabel(\"Weekly_Sales\")"
   ]
  },
  {
   "cell_type": "code",
   "execution_count": 803,
   "metadata": {},
   "outputs": [
    {
     "data": {
      "text/plain": [
       "Text(0, 0.5, 'Weekly_Sales')"
      ]
     },
     "execution_count": 803,
     "metadata": {},
     "output_type": "execute_result"
    },
    {
     "data": {
      "image/png": "[encoded data removed]",
      "text/plain": [
       "<Figure size 432x288 with 1 Axes>"
      ]
     },
     "metadata": {
      "needs_background": "light"
     },
     "output_type": "display_data"
    }
   ],
   "source": [
    "#plot Date vs Weekly_Sales:\n",
    "plt.scatter(x2,y)\n",
    "plt.xlabel(\"Date\")\n",
    "plt.ylabel(\"Weekly_Sales\")"
   ]
  },
  {
   "cell_type": "code",
   "execution_count": 804,
   "metadata": {},
   "outputs": [
    {
     "data": {
      "text/plain": [
       "Text(0, 0.5, 'Weekly_Sales')"
      ]
     },
     "execution_count": 804,
     "metadata": {},
     "output_type": "execute_result"
    },
    {
     "data": {
      "image/png": "[encoded data removed]",
      "text/plain": [
       "<Figure size 432x288 with 1 Axes>"
      ]
     },
     "metadata": {
      "needs_background": "light"
     },
     "output_type": "display_data"
    }
   ],
   "source": [
    "#plot Dept vs Weekly_Sales:\n",
    "plt.scatter(x3,y)\n",
    "plt.xlabel(\"Dept\")\n",
    "plt.ylabel(\"Weekly_Sales\")"
   ]
  },
  {
   "cell_type": "code",
   "execution_count": 805,
   "metadata": {},
   "outputs": [
    {
     "data": {
      "text/plain": [
       "Text(0, 0.5, 'Weekly_Sales')"
      ]
     },
     "execution_count": 805,
     "metadata": {},
     "output_type": "execute_result"
    },
    {
     "data": {
      "image/png": "[encoded data removed]",
      "text/plain": [
       "<Figure size 432x288 with 1 Axes>"
      ]
     },
     "metadata": {
      "needs_background": "light"
     },
     "output_type": "display_data"
    }
   ],
   "source": [
    "#plot Temperature vs Weekly_Sales:\n",
    "plt.scatter(x2,y)\n",
    "plt.xlabel(\"Temperature\")\n",
    "plt.ylabel(\"Weekly_Sales\")"
   ]
  },
  {
   "cell_type": "code",
   "execution_count": 809,
   "metadata": {},
   "outputs": [
    {
     "data": {
      "text/plain": [
       "5000"
      ]
     },
     "execution_count": 809,
     "metadata": {},
     "output_type": "execute_result"
    }
   ],
   "source": [
    "# Convert our variables datatype from series to array :\n",
    "\n",
    "x1 = np.array(x1)\n",
    "#x2 = np.array(x2)\n",
    "x2 = np.array(x2)\n",
    "x3 = np.array(x3)\n",
    "x4 = np.array(x4)\n",
    "x5 = np.array(x5)\n",
    "x6 = np.array(x6)\n",
    "x7 = np.array(x7)\n",
    "\n",
    "x1 = x1\n",
    "#x2 = np.array(x2)\n",
    "x2 = np.power(x2,2)\n",
    "x3 = np.power(x3,3)\n",
    "x4 = np.power(x4,4)\n",
    "x5 = np.power(x5,5)\n",
    "x6 = np.power(x6,6)\n",
    "x7 = np.power(x7,7)\n",
    "y = np.array(y)\n",
    "\n",
    "# number of our dataset\n",
    "\n",
    "n = len(x1)\n",
    "n"
   ]
  },
  {
   "cell_type": "code",
   "execution_count": 810,
   "metadata": {},
   "outputs": [
    {
     "data": {
      "text/plain": [
       "array([[ 1.00000000e+00,  4.00000000e+00,  1.85302019e+15, ...,\n",
       "         0.00000000e+00, -7.73420871e+17,  9.16141279e+18],\n",
       "       [ 1.00000000e+00,  4.00000000e+00,  4.30467210e+07, ...,\n",
       "         3.21854725e+18, -2.78142872e+18,  1.44455456e+18],\n",
       "       [ 1.00000000e+00,  4.00000000e+00, -8.26561149e+18, ...,\n",
       "         0.00000000e+00,  0.00000000e+00,  0.00000000e+00],\n",
       "       ...,\n",
       "       [ 1.00000000e+00,  2.00000000e+00, -3.82532910e+18, ...,\n",
       "         0.00000000e+00, -7.73420871e+17,  9.16141279e+18],\n",
       "       [ 1.00000000e+00,  2.00000000e+00, -6.55569569e+18, ...,\n",
       "        -5.30975292e+15,  0.00000000e+00,  0.00000000e+00],\n",
       "       [ 1.00000000e+00,  5.00000000e+00,  4.29496730e+09, ...,\n",
       "        -5.30975292e+15,  0.00000000e+00,  8.98148388e+18]])"
      ]
     },
     "execution_count": 810,
     "metadata": {},
     "output_type": "execute_result"
    }
   ],
   "source": [
    "# Create a “ones” matrix :\n",
    "\n",
    "x_bias = np.ones((n,1))\n",
    "\n",
    "# Reshape our data so that we can perform operations like addition and multiplication with x_bias\n",
    "\n",
    "x1_new = np.reshape(x1,(n,1))\n",
    "x2_new = np.reshape(x2,(n,1))\n",
    "x3_new = np.reshape(x3,(n,1))\n",
    "x4_new = np.reshape(x4,(n,1))\n",
    "x5_new = np.reshape(x5,(n,1))\n",
    "x6_new = np.reshape(x6,(n,1))\n",
    "x7_new = np.reshape(x7,(n,1))\n",
    "#x8_new = np.reshape(x8,(n,1))\n",
    "\n",
    "#Create a major matrix with all the columns:\n",
    "\n",
    "x_new = np.append(x_bias,x1_new,axis=1)\n",
    "x_new = np.append(x_new,x2_new,axis=1)\n",
    "x_new = np.append(x_new,x3_new,axis=1)\n",
    "x_new = np.append(x_new,x4_new,axis=1)\n",
    "x_new = np.append(x_new,x5_new,axis=1)\n",
    "x_new = np.append(x_new,x6_new,axis=1)\n",
    "x_new = np.append(x_new,x7_new,axis=1)\n",
    "#x_new = np.append(x_new,x8_new,axis=1)\n",
    "\n",
    "x_new"
   ]
  },
  {
   "cell_type": "code",
   "execution_count": 813,
   "metadata": {},
   "outputs": [
    {
     "data": {
      "text/plain": [
       "array([ 2.92673448e+04, -2.11685311e+03,  9.88078068e-16, -6.33205761e-17,\n",
       "       -2.65636437e-16,  2.11895302e-16,  2.47248045e-16, -6.45624274e-16])"
      ]
     },
     "execution_count": 813,
     "metadata": {},
     "output_type": "execute_result"
    }
   ],
   "source": [
    "#Find transpose of a matrix :\n",
    "\n",
    "x_new_transpose = np.transpose(x_new)\n",
    "\n",
    "#Perform multiplication:\n",
    "\n",
    "x_new_transpose_dot_x_new = x_new_transpose.dot(x_new)\n",
    "\n",
    "#AFter regularization\n",
    "lambd = -18\n",
    "IdentityMatrix= np.zeros((8, 8))\n",
    "#x_new_transpose_dot_x_new = x_new_transpose_dot_x_new + (lambd*IdentityMatrix)\n",
    "\n",
    "# find the inverse\n",
    "\n",
    "temp_1 = np.linalg.inv(x_new_transpose_dot_x_new + (lambd*IdentityMatrix))\n",
    "\n",
    "#perform multiplication\n",
    "\n",
    "temp_2 = x_new_transpose.dot(y)\n",
    "\n",
    "#Finding coefficients :\n",
    "\n",
    "theta = temp_1.dot(temp_2)\n",
    "\n",
    "theta"
   ]
  },
  {
   "cell_type": "code",
   "execution_count": 814,
   "metadata": {},
   "outputs": [
    {
     "name": "stdout",
     "output_type": "stream",
     "text": [
      "29267.344752026096\n",
      "-2116.853114730474\n",
      "9.880780679308857e-16\n",
      "-6.332057605340374e-17\n",
      "-2.656364369548107e-16\n",
      "2.118953017411141e-16\n",
      "2.472480451128416e-16\n",
      "-6.456242743402698e-16\n"
     ]
    }
   ],
   "source": [
    "# print the coefficient values:\n",
    "\n",
    "beta_0 = theta[0]\n",
    "beta_1 = theta[1]\n",
    "beta_2 = theta[2]\n",
    "beta_3 = theta[3]\n",
    "beta_4 = theta[4]\n",
    "beta_5 = theta[5]\n",
    "beta_6 = theta[6]\n",
    "beta_7 = theta[7]\n",
    "#beta_8 = theta[8]\n",
    "\n",
    "\n",
    "print(beta_0)\n",
    "print(beta_1)\n",
    "print(beta_2)\n",
    "print(beta_3)\n",
    "print(beta_4)\n",
    "print(beta_5)\n",
    "print(beta_6)\n",
    "print(beta_7)\n",
    "#print(beta_8)\n"
   ]
  },
  {
   "cell_type": "code",
   "execution_count": 835,
   "metadata": {},
   "outputs": [
    {
     "data": {
      "text/html": [
       "<div>\n",
       "<style scoped>\n",
       "    .dataframe tbody tr th:only-of-type {\n",
       "        vertical-align: middle;\n",
       "    }\n",
       "\n",
       "    .dataframe tbody tr th {\n",
       "        vertical-align: top;\n",
       "    }\n",
       "\n",
       "    .dataframe thead th {\n",
       "        text-align: right;\n",
       "    }\n",
       "</style>\n",
       "<table border=\"1\" class=\"dataframe\">\n",
       "  <thead>\n",
       "    <tr style=\"text-align: right;\">\n",
       "      <th></th>\n",
       "      <th>Store</th>\n",
       "      <th>Date</th>\n",
       "      <th>Dept</th>\n",
       "      <th>Temperature</th>\n",
       "      <th>Fuel_Price</th>\n",
       "      <th>CPI</th>\n",
       "      <th>Unemployment</th>\n",
       "      <th>IsHoliday</th>\n",
       "      <th>Weekly_Sales</th>\n",
       "    </tr>\n",
       "  </thead>\n",
       "  <tbody>\n",
       "    <tr>\n",
       "      <th>0</th>\n",
       "      <td>1</td>\n",
       "      <td>201025</td>\n",
       "      <td>4</td>\n",
       "      <td>42</td>\n",
       "      <td>2</td>\n",
       "      <td>211</td>\n",
       "      <td>8</td>\n",
       "      <td>0</td>\n",
       "      <td>39954</td>\n",
       "    </tr>\n",
       "    <tr>\n",
       "      <th>1</th>\n",
       "      <td>1</td>\n",
       "      <td>201025</td>\n",
       "      <td>5</td>\n",
       "      <td>42</td>\n",
       "      <td>2</td>\n",
       "      <td>211</td>\n",
       "      <td>8</td>\n",
       "      <td>0</td>\n",
       "      <td>32229</td>\n",
       "    </tr>\n",
       "    <tr>\n",
       "      <th>2</th>\n",
       "      <td>1</td>\n",
       "      <td>201025</td>\n",
       "      <td>7</td>\n",
       "      <td>42</td>\n",
       "      <td>2</td>\n",
       "      <td>211</td>\n",
       "      <td>8</td>\n",
       "      <td>0</td>\n",
       "      <td>21084</td>\n",
       "    </tr>\n",
       "    <tr>\n",
       "      <th>3</th>\n",
       "      <td>1</td>\n",
       "      <td>201025</td>\n",
       "      <td>8</td>\n",
       "      <td>42</td>\n",
       "      <td>2</td>\n",
       "      <td>211</td>\n",
       "      <td>8</td>\n",
       "      <td>0</td>\n",
       "      <td>40129</td>\n",
       "    </tr>\n",
       "    <tr>\n",
       "      <th>4</th>\n",
       "      <td>1</td>\n",
       "      <td>201025</td>\n",
       "      <td>10</td>\n",
       "      <td>42</td>\n",
       "      <td>2</td>\n",
       "      <td>211</td>\n",
       "      <td>8</td>\n",
       "      <td>0</td>\n",
       "      <td>30721</td>\n",
       "    </tr>\n",
       "  </tbody>\n",
       "</table>\n",
       "</div>"
      ],
      "text/plain": [
       "   Store    Date  Dept  Temperature  Fuel_Price  CPI  Unemployment  IsHoliday  \\\n",
       "0      1  201025     4           42           2  211             8          0   \n",
       "1      1  201025     5           42           2  211             8          0   \n",
       "2      1  201025     7           42           2  211             8          0   \n",
       "3      1  201025     8           42           2  211             8          0   \n",
       "4      1  201025    10           42           2  211             8          0   \n",
       "\n",
       "   Weekly_Sales  \n",
       "0         39954  \n",
       "1         32229  \n",
       "2         21084  \n",
       "3         40129  \n",
       "4         30721  "
      ]
     },
     "execution_count": 835,
     "metadata": {},
     "output_type": "execute_result"
    }
   ],
   "source": [
    "data_test = pd.read_csv(\"test_new1.csv\")\n",
    "#data_test = data_test.sample(n=1000)\n",
    "data_test.head()"
   ]
  },
  {
   "cell_type": "code",
   "execution_count": 836,
   "metadata": {},
   "outputs": [
    {
     "name": "stdout",
     "output_type": "stream",
     "text": [
      "(19654,)\n",
      "(19654,)\n",
      "(19654,)\n",
      "(19654,)\n",
      "(19654,)\n",
      "(19654,)\n",
      "(19654,)\n",
      "19654\n"
     ]
    }
   ],
   "source": [
    "x1_test = data_test[\"Store\"]\n",
    "#x2_test = data_test[\"Date\"]\n",
    "x2_test = data_test[\"Dept\"]\n",
    "x3_test = data_test[\"Temperature\"]\n",
    "x4_test = data_test[\"Fuel_Price\"]\n",
    "x5_test = data_test[\"CPI\"]\n",
    "x6_test = data_test[\"Unemployment\"]\n",
    "x7_test = data_test[\"IsHoliday\"]\n",
    "y_test = data_test[\"Weekly_Sales\"]\n",
    "m_test = y_test.size\n",
    "print(x1_test.shape)\n",
    "print(x2_test.shape)\n",
    "print(x3_test.shape)\n",
    "print(x4_test.shape)\n",
    "print(x5_test.shape)\n",
    "print(x6_test.shape)\n",
    "print(x7_test.shape)\n",
    "#print(x8_test.shape)\n",
    "print(m_test)"
   ]
  },
  {
   "cell_type": "code",
   "execution_count": 817,
   "metadata": {},
   "outputs": [
    {
     "data": {
      "text/plain": [
       "1000"
      ]
     },
     "execution_count": 817,
     "metadata": {},
     "output_type": "execute_result"
    }
   ],
   "source": [
    "# Convert our variables datatype from series to array :\n",
    "\n",
    "x1_test = np.array(x1_test)\n",
    "x2_test = np.array(x2_test)\n",
    "x3_test = np.array(x3_test)\n",
    "x4_test = np.array(x4_test)\n",
    "x5_test = np.array(x5_test)\n",
    "x6_test = np.array(x6_test)\n",
    "x7_test = np.array(x7_test)\n",
    "\n",
    "\n",
    "x1_test = x1_test\n",
    "x2_test = np.power(x2_test,2)\n",
    "x3_test = np.power(x3_test,3)\n",
    "x4_test = np.power(x4_test,4)\n",
    "x5_test = np.power(x5_test,5)\n",
    "x6_test = np.power(x6_test,6)\n",
    "x7_test = np.power(x7_test,7)\n",
    "y_test = np.array(y_test)\n",
    "\n",
    "# number of our dataset\n",
    "\n",
    "n_test = len(x1_test)\n",
    "n_test"
   ]
  },
  {
   "cell_type": "code",
   "execution_count": 818,
   "metadata": {},
   "outputs": [
    {
     "name": "stdout",
     "output_type": "stream",
     "text": [
      "[[1.00000000e+00 1.00000000e+00 7.56900000e+03 ... 4.28232185e+11\n",
      "  1.17649000e+05 0.00000000e+00]\n",
      " [1.00000000e+00 5.00000000e+00 1.44000000e+02 ... 4.28232185e+11\n",
      "  4.66560000e+04 0.00000000e+00]\n",
      " [1.00000000e+00 6.00000000e+00 6.25000000e+02 ... 5.03756397e+11\n",
      "  4.66560000e+04 0.00000000e+00]\n",
      " ...\n",
      " [1.00000000e+00 2.00000000e+00 6.40000000e+01 ... 4.28232185e+11\n",
      "  2.62144000e+05 1.00000000e+00]\n",
      " [1.00000000e+00 1.00000000e+00 1.60000000e+03 ... 5.15363200e+11\n",
      "  1.17649000e+05 0.00000000e+00]\n",
      " [1.00000000e+00 3.00000000e+00 1.22500000e+03 ... 5.76650391e+11\n",
      "  4.66560000e+04 0.00000000e+00]]\n"
     ]
    }
   ],
   "source": [
    "# Create a “ones” matrix :\n",
    "\n",
    "x_bias_test = np.ones((n_test,1))\n",
    "\n",
    "# Reshape our data so that we can perform operations like addition and multiplication with x_bias\n",
    "\n",
    "x1_new_test = np.reshape(x1_test,(n_test,1))\n",
    "x2_new_test = np.reshape(x2_test,(n_test,1))\n",
    "x3_new_test = np.reshape(x3_test,(n_test,1))\n",
    "x4_new_test = np.reshape(x4_test,(n_test,1))\n",
    "x5_new_test = np.reshape(x5_test,(n_test,1))\n",
    "x6_new_test = np.reshape(x6_test,(n_test,1))\n",
    "x7_new_test = np.reshape(x7_test,(n_test,1))\n",
    "#x8_new_test = np.reshape(x8_test,(n_test,1))\n",
    "\n",
    "#Create a major matrix with all the columns:\n",
    "\n",
    "x_new_test = np.append(x_bias_test,x1_new_test,axis=1)\n",
    "x_new_test = np.append(x_new_test,x2_new_test,axis=1)\n",
    "x_new_test = np.append(x_new_test,x3_new_test,axis=1)\n",
    "x_new_test = np.append(x_new_test,x4_new_test,axis=1)\n",
    "x_new_test = np.append(x_new_test,x5_new_test,axis=1)\n",
    "x_new_test = np.append(x_new_test,x6_new_test,axis=1)\n",
    "x_new_test = np.append(x_new_test,x7_new_test,axis=1)\n",
    "#x_new_test = np.append(x_new_test,x8_new_test,axis=1)\n",
    "\n",
    "print(x_new_test)\n",
    "\n"
   ]
  },
  {
   "cell_type": "code",
   "execution_count": 579,
   "metadata": {},
   "outputs": [
    {
     "ename": "IndexError",
     "evalue": "index 8 is out of bounds for axis 1 with size 8",
     "output_type": "error",
     "traceback": [
      "\u001b[0;31m---------------------------------------------------------------------------\u001b[0m",
      "\u001b[0;31mIndexError\u001b[0m                                Traceback (most recent call last)",
      "\u001b[0;32m<ipython-input-579-a601c03b730b>\u001b[0m in \u001b[0;36m<module>\u001b[0;34m\u001b[0m\n\u001b[1;32m     14\u001b[0m \u001b[0mCPI\u001b[0m \u001b[0;34m=\u001b[0m \u001b[0mx_new_test\u001b[0m\u001b[0;34m[\u001b[0m\u001b[0;36m0\u001b[0m\u001b[0;34m,\u001b[0m\u001b[0;36m6\u001b[0m\u001b[0;34m]\u001b[0m\u001b[0;34m\u001b[0m\u001b[0;34m\u001b[0m\u001b[0m\n\u001b[1;32m     15\u001b[0m \u001b[0mUnemployment\u001b[0m \u001b[0;34m=\u001b[0m \u001b[0mx_new_test\u001b[0m\u001b[0;34m[\u001b[0m\u001b[0;36m0\u001b[0m\u001b[0;34m,\u001b[0m\u001b[0;36m7\u001b[0m\u001b[0;34m]\u001b[0m\u001b[0;34m\u001b[0m\u001b[0;34m\u001b[0m\u001b[0m\n\u001b[0;32m---> 16\u001b[0;31m \u001b[0mIsHoliday\u001b[0m \u001b[0;34m=\u001b[0m \u001b[0mx_new_test\u001b[0m\u001b[0;34m[\u001b[0m\u001b[0;36m0\u001b[0m\u001b[0;34m,\u001b[0m\u001b[0;36m8\u001b[0m\u001b[0;34m]\u001b[0m\u001b[0;34m\u001b[0m\u001b[0;34m\u001b[0m\u001b[0m\n\u001b[0m\u001b[1;32m     17\u001b[0m \u001b[0;34m\u001b[0m\u001b[0m\n\u001b[1;32m     18\u001b[0m print(predict_values(beta_0,beta_1,beta_2,beta_3,beta_4,beta_5,beta_6,beta_7,beta_8,Store, Date, Dept, Temperature, Fuel_Price, CPI,\n",
      "\u001b[0;31mIndexError\u001b[0m: index 8 is out of bounds for axis 1 with size 8"
     ]
    }
   ],
   "source": [
    "#Predict the values based on the calculated coefficient values:\n",
    "\n",
    "def predict_values(beta_0,beta_1,beta_2,beta_3,beta_4,beta_5,beta_6,beta_7,beta_8,Store, Date, Dept, Temperature, Fuel_Price, CPI,\n",
    "       Unemployment, IsHoliday):\n",
    "    predicted_value = beta_0 + Store*beta_1 + Date*beta_2 + Dept*beta_3 + Temperature*beta_4 + Fuel_Price*beta_5 + CPI*beta_6 + Unemployment*beta_7 + IsHoliday*beta_8\n",
    "    return predicted_value\n",
    "\n",
    "#predict a value:\n",
    "Store= x_new_test[0,1]\n",
    "Date = x_new_test[0,2]\n",
    "Dept = x_new_test[0,3]\n",
    "Temperature = x_new_test[0,4]\n",
    "Fuel_Price = x_new_test[0,5]\n",
    "CPI = x_new_test[0,6]\n",
    "Unemployment = x_new_test[0,7]\n",
    "IsHoliday = x_new_test[0,8]\n",
    "\n",
    "print(predict_values(beta_0,beta_1,beta_2,beta_3,beta_4,beta_5,beta_6,beta_7,beta_8,Store, Date, Dept, Temperature, Fuel_Price, CPI,\n",
    "       Unemployment, IsHoliday))\n"
   ]
  },
  {
   "cell_type": "code",
   "execution_count": 819,
   "metadata": {},
   "outputs": [
    {
     "name": "stdout",
     "output_type": "stream",
     "text": [
      "[27150.49172804 18683.07926911 16566.22617039 20799.93230067\n",
      " 16566.22618314 18683.07926699 25033.63863942 16566.22616099\n",
      " 27150.4917324  14449.37300278 14449.37300001 14449.37300001\n",
      " 20799.93230067 18683.07929523 16566.22616099 16566.22618583\n",
      " 27150.49172592 18683.07926699 22916.78553002 18683.07928758\n",
      " 25033.63860911 25033.63862689 25033.63861119 20799.93229983\n",
      " 25033.63860911 16566.2261805  27150.4917302  27150.49172592\n",
      " 22916.78551216 16566.22616327 27150.491749   25033.63861119\n",
      " 25033.63861119 18683.07929263 18683.07928758 25033.63863427\n",
      " 27150.491749   25033.63862931 27150.49172592 22916.78550294\n",
      " 22916.78551954 16566.2261779  16566.22617535 22916.78550294\n",
      " 27150.49173464 16566.22616327 16566.22617535 27150.491749\n",
      " 20799.93230097 22916.78550518 27150.49172592 16566.22615438\n",
      " 14449.37300866 27150.49172384 20799.93229983 14449.37300714\n",
      " 20799.93229983 27150.49174162 16566.2261656  25033.63863427\n",
      " 27150.49172592 22916.78552469 27150.491749   22916.78550294\n",
      " 16566.22615438 20799.93230097 16566.2261805  27150.49172384\n",
      " 25033.63861119 16566.22616327 18683.079278   27150.491749\n",
      " 16566.22615438 16566.2261805  27150.49172804 25033.63861119\n",
      " 22916.78553002 27150.4917324  14449.3730042  20799.9323001\n",
      " 18683.07929263 20799.93230067 22916.78551458 16566.22617285\n",
      " 20799.93229983 25033.63862452 22916.78550294 25033.63861331\n",
      " 18683.07929263 22916.78551704 25033.63862931 18683.07926699\n",
      " 18683.0792827  27150.49173464 27150.49175155 25033.63863427\n",
      " 18683.079278   14449.37300138 16566.22615438 25033.63862689\n",
      " 22916.78551216 20799.93230097 22916.78552469 27150.49172592\n",
      " 14449.37300001 27150.491749   18683.07927127 20799.93230067\n",
      " 14449.37300138 14449.37300714 20799.93230067 25033.6386222\n",
      " 18683.07928512 27150.491749   16566.22615438 20799.93230097\n",
      " 27150.49172592 27150.49172592 20799.93230128 27150.4917465\n",
      " 22916.78550294 27150.49173464 20799.93230128 25033.63861119\n",
      " 27150.49172592 27150.49172804 22916.78553002 18683.07926911\n",
      " 14449.37300001 16566.22616327 20799.93229983 16566.2261805\n",
      " 25033.63861991 18683.07926699 20799.9323001  20799.93230067\n",
      " 16566.2261805  20799.93229983 14449.37300001 18683.07926699\n",
      " 14449.37300866 25033.63863427 22916.78550294 22916.78550294\n",
      " 20799.93230097 25033.63861991 14449.37300001 25033.63861119\n",
      " 18683.07926699 20799.93229983 14449.37300138 25033.63861991\n",
      " 27150.491749   18683.07929523 22916.78551216 22916.78550074\n",
      " 20799.93229983 18683.079278   18683.07927572 25033.63863427\n",
      " 22916.78550518 14449.37300714 25033.63861767 25033.63861119\n",
      " 20799.93229983 16566.2261805  18683.079278   20799.93230097\n",
      " 18683.079278   27150.49172384 16566.22617535 18683.079278\n",
      " 18683.07926699 14449.3730102  14449.37300278 18683.07926491\n",
      " 18683.07929263 25033.63862931 22916.78552733 20799.93229983\n",
      " 25033.63861331 27150.49172592 18683.079278   20799.93230067\n",
      " 20799.93229983 16566.2261656  25033.63861991 27150.491749\n",
      " 16566.22615654 16566.2261805  22916.78552469 27150.491749\n",
      " 22916.78553276 25033.63861119 20799.93230097 20799.93229983\n",
      " 18683.07926491 22916.78550294 22916.78551704 16566.2261779\n",
      " 16566.2261656  16566.22615654 22916.78553002 27150.491749\n",
      " 18683.07926699 20799.93230038 27150.49172592 14449.3730042\n",
      " 14449.37300138 20799.93230038 18683.079278   20799.93230097\n",
      " 16566.22617285 27150.491749   27150.491749   16566.22617535\n",
      " 18683.07929523 20799.93229983 22916.78550294 14449.37300278\n",
      " 16566.22615438 16566.22615438 27150.49172592 27150.49172384\n",
      " 20799.93230067 16566.22617535 16566.22617285 14449.37300278\n",
      " 20799.93230097 27150.49172592 16566.22617535 18683.079278\n",
      " 25033.63863427 25033.63860911 16566.22615654 18683.07928758\n",
      " 27150.49172592 25033.63861767 16566.22615226 18683.07929263\n",
      " 20799.93230067 27150.49173693 20799.93230067 16566.22616327\n",
      " 16566.2261656  16566.2261656  27150.49172592 16566.22618314\n",
      " 18683.07926699 27150.49172592 25033.63860911 27150.49174404\n",
      " 25033.63863177 18683.07929008 20799.93229983 22916.78552469\n",
      " 20799.93229983 16566.2261779  16566.22615654 20799.93229983\n",
      " 22916.78550294 16566.22615438 18683.079278   27150.49172804\n",
      " 22916.78551954 16566.22615654 16566.22615438 27150.49172384\n",
      " 25033.63860911 22916.78550294 18683.07929263 22916.78550294\n",
      " 25033.63863427 20799.93230097 14449.3730042  22916.78550979\n",
      " 16566.22615438 14449.3730042  18683.07926699 16566.22615654\n",
      " 22916.78551954 14449.3730102  20799.93229983 18683.07928512\n",
      " 20799.93230128 22916.78552209 14449.37300714 14449.37300866\n",
      " 27150.4917465  20799.93230067 16566.22616327 25033.63860911\n",
      " 25033.63863427 18683.07929263 16566.22615654 22916.78551216\n",
      " 20799.93229983 27150.49175155 18683.07929008 16566.2261779\n",
      " 25033.63863682 18683.07926911 27150.49172592 16566.22615438\n",
      " 25033.63860911 18683.0792827  18683.07928758 18683.07926911\n",
      " 22916.78553276 22916.78550074 27150.49174162 25033.63861119\n",
      " 14449.37300138 16566.22616327 25033.63861119 18683.07926699\n",
      " 18683.07929523 16566.22617039 22916.78551954 25033.6386222\n",
      " 20799.93230097 20799.93230097 22916.78550518 27150.4917465\n",
      " 16566.22617535 27150.49172592 27150.49172384 27150.49174404\n",
      " 25033.63861119 20799.93229983 27150.49174162 27150.49174404\n",
      " 27150.49172592 27150.49174162 16566.2261805  25033.63861119\n",
      " 22916.78551216 20799.93230097 18683.07929008 22916.78551216\n",
      " 20799.93229983 27150.49172804 20799.9323001  18683.07929263\n",
      " 25033.63861767 27150.49175155 27150.491749   18683.07927572\n",
      " 25033.63861991 20799.93230067 20799.93230097 16566.22615654\n",
      " 14449.37300001 20799.9323001  18683.07926699 27150.4917324\n",
      " 16566.2261805  22916.78550518 25033.63861991 20799.9323001\n",
      " 14449.3730042  25033.63861119 27150.49175155 27150.491749\n",
      " 18683.07929263 22916.78551216 16566.2261656  20799.93230067\n",
      " 25033.63861119 20799.9323001  22916.78553002 27150.49172804\n",
      " 27150.49172592 16566.22615654 25033.63861767 25033.63862689\n",
      " 14449.37300278 27150.4917465  14449.3730042  22916.78551216\n",
      " 14449.37300278 16566.2261779  20799.93229983 14449.37300566\n",
      " 16566.22618314 16566.22615654 14449.37300001 16566.22617039\n",
      " 16566.2261656  20799.93230097 18683.079278   27150.49172592\n",
      " 20799.93230097 20799.93229983 18683.07929263 27150.49173464\n",
      " 16566.22615654 20799.93230067 20799.93230097 25033.63861767\n",
      " 18683.07928033 27150.49174404 22916.78550294 16566.22615654\n",
      " 25033.63861331 14449.37300138 14449.37300278 14449.37300001\n",
      " 16566.2261656  25033.63863427 14449.37300866 25033.63861119\n",
      " 25033.63860911 18683.079278   27150.49172592 18683.07929263\n",
      " 25033.63860911 20799.93229983 22916.78550746 27150.49173464\n",
      " 20799.93230038 18683.07926699 20799.93230067 18683.07929263\n",
      " 22916.78550294 18683.07926491 27150.491749   25033.6386222\n",
      " 18683.07928758 22916.78552733 18683.07926699 18683.07927572\n",
      " 22916.78550294 25033.63861119 22916.78550294 18683.07929263\n",
      " 27150.49172592 27150.49174404 27150.49173693 27150.491749\n",
      " 14449.37300566 18683.079278   25033.63863427 18683.07929263\n",
      " 20799.93229983 27150.49172384 25033.63862931 25033.63861119\n",
      " 16566.2261805  14449.3730102  27150.491749   18683.07927572\n",
      " 25033.63862452 16566.22616327 20799.93229983 20799.93229983\n",
      " 18683.07928758 27150.49173464 16566.22615438 18683.07926911\n",
      " 16566.22615654 22916.78550518 16566.22617535 18683.079278\n",
      " 16566.22615226 22916.78551216 18683.07929008 16566.22617535\n",
      " 25033.63861119 18683.07928033 25033.63861119 16566.2261656\n",
      " 25033.63863682 14449.37300001 25033.63861119 25033.63860911\n",
      " 16566.22615875 14449.37300138 25033.63861119 16566.2261656\n",
      " 20799.93229983 18683.07929008 16566.22615226 27150.491749\n",
      " 22916.78551216 27150.49173464 18683.07926911 27150.49172592\n",
      " 18683.07928758 18683.07926699 25033.63860911 22916.78550294\n",
      " 20799.93230038 16566.22615438 25033.63860911 18683.07926911\n",
      " 22916.78551458 18683.07928512 14449.37300278 25033.63860911\n",
      " 20799.93230097 14449.37300138 25033.63861119 18683.07929263\n",
      " 18683.07927572 22916.78553276 27150.491749   27150.49173925\n",
      " 16566.2261805  16566.22616327 22916.78551704 27150.49172592\n",
      " 20799.93230097 14449.37300278 14449.37300278 20799.93229983\n",
      " 22916.78551216 25033.63863427 22916.78550294 20799.93230067\n",
      " 20799.93230128 27150.49172804 25033.63863427 18683.07926911\n",
      " 25033.63860911 25033.63861119 25033.63860911 18683.07927572\n",
      " 27150.49173464 20799.93230038 22916.78551216 27150.491749\n",
      " 27150.49172592 20799.93230097 16566.2261805  16566.2261656\n",
      " 25033.63863427 14449.3730042  16566.22615438 22916.78551954\n",
      " 27150.49172804 16566.22615438 14449.37300001 27150.49172592\n",
      " 20799.93229983 27150.49172592 25033.63860911 16566.2261779\n",
      " 27150.49173693 22916.78553002 25033.63862452 27150.49173925\n",
      " 18683.07926699 25033.63863177 14449.37300714 20799.93229983\n",
      " 25033.63861119 16566.2261656  27150.49173464 22916.78553002\n",
      " 16566.22615875 27150.49172592 20799.9323001  27150.491749\n",
      " 25033.63861119 27150.491749   27150.491749   22916.78550294\n",
      " 27150.49173464 20799.93230038 14449.37300001 20799.93230067\n",
      " 20799.93230097 14449.37300001 14449.3730102  20799.93230097\n",
      " 27150.49174404 18683.07928758 22916.78550294 27150.49172592\n",
      " 20799.93229983 20799.93230038 27150.49172592 20799.93230128\n",
      " 27150.49172592 27150.49173464 27150.49175155 20799.93229983\n",
      " 25033.63860911 16566.22616327 27150.491749   22916.78553276\n",
      " 20799.93230097 27150.49172384 22916.78553002 16566.22617285\n",
      " 25033.63863427 22916.78553002 18683.079278   14449.37300714\n",
      " 14449.37300138 20799.93230128 14449.3730102  27150.49172592\n",
      " 18683.07927572 20799.93230097 25033.63862452 22916.78550518\n",
      " 25033.63860911 14449.37300138 18683.07929263 25033.63861991\n",
      " 16566.22615654 20799.93229983 25033.63861991 20799.93230097\n",
      " 22916.78551216 20799.93230038 25033.63861119 20799.9323001\n",
      " 27150.49173464 20799.93229983 18683.07929523 16566.22615875\n",
      " 27150.49173464 16566.22616327 18683.07927572 27150.49172384\n",
      " 27150.4917324  18683.07926911 27150.49172592 22916.78552469\n",
      " 18683.07927348 25033.63863177 18683.07926911 14449.37300138\n",
      " 18683.07927348 20799.93229983 25033.63863427 27150.491749\n",
      " 16566.22616099 18683.0792827  25033.63861547 18683.07927348\n",
      " 22916.78552209 27150.491749   14449.37300001 22916.78553002\n",
      " 25033.63861331 27150.49172592 20799.93230097 20799.93230067\n",
      " 22916.78551954 27150.49173464 14449.37300714 18683.07928758\n",
      " 16566.22617535 25033.63862931 16566.2261805  18683.07926491\n",
      " 18683.07926699 27150.49172384 22916.78550518 16566.22617535\n",
      " 20799.93229983 25033.63860911 18683.07929263 14449.37300714\n",
      " 16566.22615875 25033.63863427 22916.78550294 20799.93230067\n",
      " 25033.6386222  22916.78551704 22916.78550518 27150.49173464\n",
      " 22916.78551216 20799.93230067 14449.37300866 16566.2261656\n",
      " 27150.4917302  16566.2261805  16566.22615438 22916.78552209\n",
      " 14449.37300138 16566.22615438 14449.37300278 16566.22615438\n",
      " 22916.78550294 14449.37300001 14449.37300138 16566.22617535\n",
      " 16566.22616327 16566.2261805  18683.0792827  18683.07927572\n",
      " 25033.63862931 18683.07927348 16566.2261805  22916.78551954\n",
      " 14449.37300001 16566.22615654 20799.93229983 27150.49172592\n",
      " 18683.07928512 14449.37300866 20799.93230097 14449.37300714\n",
      " 27150.491749   20799.93229983 18683.07929263 22916.78551458\n",
      " 22916.78553002 18683.07929008 27150.49173925 14449.37300001\n",
      " 20799.93230097 25033.63862452 27150.4917465  25033.63862931\n",
      " 16566.2261805  27150.49172592 14449.37300278 27150.49175155\n",
      " 20799.93230067 18683.07926699 20799.93230128 27150.49173925\n",
      " 22916.78550294 22916.78551216 22916.78550294 27150.49175155\n",
      " 27150.49175415 27150.491749   18683.07927348 20799.93229983\n",
      " 16566.22615654 16566.2261805  27150.49172804 18683.07926699\n",
      " 16566.22615438 18683.07927572 16566.22616099 18683.079278\n",
      " 18683.07928758 25033.63861991 14449.37300714 18683.07926491\n",
      " 27150.49172592 27150.491749   25033.63861119 27150.49172592\n",
      " 14449.3730042  20799.93230097 25033.63860911 18683.07929008\n",
      " 25033.63861119 18683.07926911 16566.2261779  27150.491749\n",
      " 14449.37300001 22916.78550074 25033.63861119 16566.22618583\n",
      " 18683.07926699 27150.49172592 27150.491749   27150.49172384\n",
      " 20799.93229983 22916.78550294 14449.37300566 25033.63861119\n",
      " 25033.63863682 27150.49174404 18683.07927572 14449.37300001\n",
      " 27150.4917465  22916.78550294 27150.49172804 27150.49172592\n",
      " 25033.63860911 14449.37300001 22916.78553002 20799.93230067\n",
      " 27150.49173464 20799.93230067 18683.07928758 25033.63861767\n",
      " 16566.2261805  16566.22616327 20799.93230097 14449.37300001\n",
      " 20799.93230128 20799.93230067 14449.37300001 27150.491749\n",
      " 16566.22615654 18683.07926911 14449.37300138 25033.63861119\n",
      " 27150.49172592 22916.78553276 20799.93230038 27150.491749\n",
      " 27150.4917465  25033.63863682 27150.49172592 14449.37300714\n",
      " 22916.78550294 18683.07928033 27150.49172592 22916.78551458\n",
      " 18683.07926911 16566.22615438 18683.07928758 20799.93230038\n",
      " 22916.78551458 16566.2261805  20799.93230038 18683.07927348\n",
      " 20799.93230128 27150.49173464 25033.63861547 22916.78550074\n",
      " 14449.37300138 27150.49174404 22916.78550518 16566.22617535\n",
      " 25033.63863427 20799.93229983 22916.78552733 22916.78551458\n",
      " 20799.93230097 27150.49172804 18683.07926491 14449.37300001\n",
      " 25033.63862452 18683.07926699 14449.37300278 22916.78550979\n",
      " 25033.6386222  27150.49173925 22916.78551458 27150.49172592\n",
      " 16566.2261805  14449.3730102  27150.4917302  18683.07926911\n",
      " 14449.37300001 16566.22615438 22916.78552469 20799.93230067\n",
      " 16566.22616327 27150.49172592 20799.93230067 14449.37300001\n",
      " 14449.3730042  25033.63863682 18683.07928033 16566.2261779\n",
      " 20799.93229983 20799.93229983 16566.2261805  22916.78550294\n",
      " 16566.22615654 25033.63860911 22916.78552209 14449.37300714\n",
      " 14449.37300001 18683.07928758 14449.37300001 27150.49172384\n",
      " 20799.93230097 27150.491749   22916.78551216 22916.78551704\n",
      " 18683.07926911 20799.93230067 14449.3730102  22916.78553002\n",
      " 18683.07929263 27150.49173693 14449.37300278 20799.93230038\n",
      " 14449.37300138 18683.07927572 25033.63861547 18683.07926491\n",
      " 22916.78552469 18683.07928758 25033.6386222  25033.63860911\n",
      " 16566.2261805  14449.37300278 25033.63861119 14449.37300278\n",
      " 27150.49173925 16566.22616327 18683.07926699 20799.93230097\n",
      " 18683.07926699 20799.93230067 27150.491749   27150.49172592\n",
      " 14449.37300714 25033.63861119 16566.2261779  18683.07926699\n",
      " 20799.93229983 22916.78550518 22916.78550294 16566.22615438\n",
      " 16566.2261656  27150.49173464 27150.49175155 25033.63860911\n",
      " 14449.37300001 27150.49172384 20799.93230067 20799.93230067\n",
      " 14449.3730042  22916.78550294 16566.22617039 18683.07929523\n",
      " 22916.78551216 18683.079278   25033.63861119 22916.78551216\n",
      " 20799.93229983 20799.93230067 16566.22616327 14449.3730042\n",
      " 16566.22615226 16566.22615438 20799.93229983 22916.78552469\n",
      " 20799.93230097 20799.93229983 20799.93229983 22916.78553002\n",
      " 16566.22617285 18683.07927348 27150.49172384 27150.49172384\n",
      " 14449.3730102  18683.07929008 14449.37300278 16566.22615438\n",
      " 27150.491749   16566.22618583 20799.93230097 22916.78550294\n",
      " 16566.2261779  20799.93230067 25033.63861767 16566.22617039\n",
      " 25033.63861119 18683.07927572 25033.63860911 18683.07926699\n",
      " 25033.63860911 18683.07929008 18683.07929263 20799.93230038\n",
      " 22916.78551216 22916.78552469 20799.93230067 25033.63861119\n",
      " 16566.22617535 20799.93230067 16566.2261656  27150.49172592\n",
      " 27150.491749   18683.07928758 18683.07926699 22916.78553002\n",
      " 27150.49174404 20799.93230097 25033.63863427 20799.93229983\n",
      " 27150.49172592 20799.93230128 14449.37300714 16566.22615654\n",
      " 25033.63861119 20799.93230128 22916.78550518 27150.491749\n",
      " 22916.78553002 22916.78553002 22916.78551458 18683.07929523\n",
      " 27150.49172592 25033.63863427 25033.63863177 25033.63860911\n",
      " 27150.49173464 25033.63861331 27150.4917465  22916.78553002]\n",
      "[[1.00000000e+00 1.00000000e+00 7.56900000e+03 ... 4.28232185e+11\n",
      "  1.17649000e+05 0.00000000e+00]\n",
      " [1.00000000e+00 5.00000000e+00 1.44000000e+02 ... 4.28232185e+11\n",
      "  4.66560000e+04 0.00000000e+00]\n",
      " [1.00000000e+00 6.00000000e+00 6.25000000e+02 ... 5.03756397e+11\n",
      "  4.66560000e+04 0.00000000e+00]\n",
      " ...\n",
      " [1.00000000e+00 2.00000000e+00 6.40000000e+01 ... 4.28232185e+11\n",
      "  2.62144000e+05 1.00000000e+00]\n",
      " [1.00000000e+00 1.00000000e+00 1.60000000e+03 ... 5.15363200e+11\n",
      "  1.17649000e+05 0.00000000e+00]\n",
      " [1.00000000e+00 3.00000000e+00 1.22500000e+03 ... 5.76650391e+11\n",
      "  4.66560000e+04 0.00000000e+00]]\n",
      "[ 39369   2789  11349   8427   6548   2429  84581  35448   8456   6340\n",
      "   1884   2165  40808     66   2076   3359   8773   6967   2698    798\n",
      "   1182  15642    584  57380   7864  15589   7227  11355   5679  43398\n",
      "   2070   1257  16425  20628   5237   5973  65730  22031   1209   9231\n",
      "     79   6655  31773   2382   4356  45361  26552   4715  13673    100\n",
      "   6359  32352   1069   9537   9012   1587  95845  38625    417 153161\n",
      "  18042   6417  10527   5779  32869   4075   6064     35   4415   2392\n",
      "  11008   2299   2863  11933 144909  49352     19   7161   2730  16883\n",
      "  10048  66878   9303   2270   9571  52930   2455  50238   9115   2424\n",
      "   2363    697    467     82  19251   6759  13334   6989  29242   7662\n",
      "  10087   3105   1225    488   8501   9687   2156  33125     27  28262\n",
      "  78430  24204   8472  11500  15985  44291  35580  63787    369 119807\n",
      "   2808  32827   8088  45485   1265   1188   2953   2786   6537  20729\n",
      "  29807  58165   4943   4382   5637  38706  23513   6783   4812   2771\n",
      "  20081    279  10029    864  96819  21324   7066  30830    226  61327\n",
      "   8867  24585  28249   3044   1339   3777  14523   2851    143     10\n",
      "   2976    422    422   6338  68422   8092   2276  14399   2484  34145\n",
      "   9265    134  11300    756   2642   2443    919  56588   8091  16689\n",
      "   6100   9001  11501  18148   7430    120  21775   2030   3993   6448\n",
      "   8076  33443   3754   1098   8235   3333    881    226     31  23803\n",
      "   2258   3966  18005  11683  21451   4388  29862    506   3105  68740\n",
      "   3722  50912  62826  40663   1023   1724    660  12513     76   2333\n",
      "   3991  43292  11031   2454    400   9171   4308   1600    175   2715\n",
      "  23541     50  19550  59770  63496   4028  44081  24012  13707   7931\n",
      "  37968   2099  34672     11  36366   9699   1624  13660   7459   7070\n",
      "   1251  47785   4322   1565   8043  11503   9039  26285   5369  25481\n",
      "   1165   1613   1632   5285   3237   5099    470  13987  25458  18339\n",
      "   9279     99   2187  16158     10   1437    188   1695     46  25361\n",
      "   6594  14835  68049   3186     40   6292  10862   1554   3043   4600\n",
      "  14736  81990  62664  21586   1038   1763  60633   5462   3207  44718\n",
      "  19152  18166  14807  14161 165734   1263   9131  19027   5604   3449\n",
      "    985   9493   9001  23259   4757   1526  21185   2820   2509   5234\n",
      "   3100   2254  17746   2121  39868   8272   3083   1852  69176  30994\n",
      "  18110  11945  68302    820  53704  22101  24587  62173  55992      5\n",
      "   8497  28899   8004   3343  15031   1759   3229   1874  52087    703\n",
      "  39452  11433    602   1684    361   4117  22760   2576  37593   3005\n",
      "  10032  17382  26262   4801  53831   1078  46259  90896  25632  31384\n",
      "   2462     51  12738  75930   5341   6147  11899  91093    353  16396\n",
      "   7952   8394  77259    397   9058  15567   4928  11853   9090  17014\n",
      "     20  36307   9461  19146     50   2081  20533  29535  21667  31396\n",
      "   2757   9020   8733  12659  11999   9659   4078   6552  14417 173002\n",
      "    460   4190  11486  19967    561    297  27646   8862 129054   7500\n",
      "   3392     49   7385    309   1106   2694 151585  13147   3565   1811\n",
      "   1515   1795   7914  17019   5293   1140  60224   8998   7295   7160\n",
      "   2922  12694 100684   5002   9233  35355   5788  25892  54413   3249\n",
      "  19063     59  77566  39661  76169  25702    308   8995  23889   2089\n",
      "   2439    380   3450    186  18597   5870   4537    352      4   2563\n",
      "  80760   8216  23879   6077  30264   1409   4684   1830   3287   7372\n",
      "   7759     11   2513   2912   8300  53241   3502     40   3772  12420\n",
      "  22199   3523    506  11407  20021   5263   7439   1387   3358     11\n",
      "   4772   3743   7539   2873    455  95333  36266   3631   7153  49569\n",
      "   4747  17558  43427    123     76 111234  11271   8270    191  99615\n",
      "  36627  61350  30513   3069  26035   8563  31676   7891  18825  27289\n",
      "    989   3240   8841   5800  45851  29518  19728  10694  22353   1575\n",
      "  18799  12778  12311  16317  49674  68143  31031   4226  71049   1743\n",
      "  79821  10030   4419   9022   6513   3466   9847  36761    449   2396\n",
      "  27125   6514   2349  14358  11978  24350   1769   3795    800   9683\n",
      "  23567    481  56486   1024   9625   7179  13264     22   8511   4519\n",
      "  65810  19293  63550 185382  15671  11112   1111   2562  10116   6736\n",
      "   4842   3248   8649   3957   1213  28361  42459  11278   1014   9279\n",
      "      2   4561    225 109943   8633  31474   7027    646  21622   3260\n",
      "    -10  43993   8537  58526  20009  33724   1830  36578   1048   9587\n",
      "  64541  16277   7669  14567   1542    317   5829   3995  32558    124\n",
      "    831    365   9806  19685   5151   1741      7   2780   2682   7861\n",
      "   5858    553  19254   1128   1351  30442  15135   1542  19186  19054\n",
      "  71546 126643  13434   2096     48    490  47491   6392   8140   2326\n",
      "   3678  15583   7239  13730   3801  25130   1006   3063   8691  19647\n",
      "   1422  11551  11816   1253   3136   2478    206  24687    148  15339\n",
      "   2966  97124  23474  11525   3472  14867  28281    772  14224  25815\n",
      "  15036  18384   6635  51562   2580   6631     40   6720  20645   3032\n",
      "   1663   7864  21709   9024  13456   5883  85871  12307  31098  19815\n",
      "   3774   1794   5578   8843     23  12696  12355  23399  30451   1123\n",
      "   9310    867    572  13415  22886     18 157750   2515    342   6690\n",
      "   8765  18236   6505   6068   5090   4528   2156  13257  25005   4284\n",
      "  27049    447    678   2396    170  21642   1706     80   7742 134206\n",
      "  89694   5160   4629  10093      6   1031     18     18  24682 139857\n",
      "   2420  18227  24029 107386    975  59985  41124   7369  36101   4721\n",
      "   1285  30770   3534   2427   5305     51   3024    624   5644  14857\n",
      "  26366   4160  19663  15254   4865  31345   2208  11079    351  34193\n",
      "   9860   5398   7368   2888   1244  20126  29238   1191   8147  34841\n",
      "  10218   4018  17586  11076  63913  16935   4215   3982   2507   2492\n",
      "  15325   9413  10301  49791   4866    455  17376   8677  13747   3361\n",
      "  14935   7618   2004   1056  12535   2523    229   2666  32432  74389\n",
      "   3228  18239   8309   2173   1659   5729  23045    359   3787     66\n",
      "  14321  45578   1368  31233   8532   1350  37838   1565     30  18101\n",
      "    320  98922  66383   3289  10552    146     78    962   2547  10818\n",
      "   9386  17098   1374    806  34851  39602   1273   4691  13653   5747\n",
      "  26899   2630  22805   6676   5677   7205   2333   1514  58056    807\n",
      "   1110    988  12748  84709    389    982   2081   9131    347   3161\n",
      "    428    157   8205     15   5374  11915   9266  55413   1830  62574\n",
      "   2038    668    881 133056  10116  11830  22692   3457   5495    986\n",
      "   1737  18668  39872   3195  60364  28639  12740  32893  50645  11914\n",
      "     98   1077  16688   1584   1705  10262  16018   1553   5778   8089\n",
      " 100688   7277  14451  88370   2522   2116   2900      2  61864   5853\n",
      "  11037    570  31378  24763    470   2331   3155   4577  18517  11715\n",
      "   3132   7147   2056  15420    140  12516  98242   2170   7277   1282\n",
      "   2613  11463   7889   8567   1222   3130  29330  13361  16722 124513\n",
      "     11   7886    955     34    778   2691   2018 101654   7225  56633\n",
      "   2827   2550    522  48704   2995  21022    539 129031   1442   3404\n",
      "   2005   2918  34227   1599   6447  36604  21482  64270  67574   1303]\n"
     ]
    }
   ],
   "source": [
    "y_predict = np.zeros(m_test)\n",
    "for i in range(m_test):\n",
    "    sum = 0\n",
    "    for n in range(7):\n",
    "        sum += theta[n] * x_new_test[i][n]\n",
    "    y_predict[i] = sum\n",
    "print(y_predict)\n",
    "\n",
    "print(x_new_test)\n",
    "print(y_test)"
   ]
  },
  {
   "cell_type": "code",
   "execution_count": 827,
   "metadata": {},
   "outputs": [
    {
     "name": "stdout",
     "output_type": "stream",
     "text": [
      "[ 41758.         873867.          13738.          10816.\n",
      "   8937.           4818.          86970.          37837.\n",
      "  10845.           8729.           4273.           4554.\n",
      "  43197.           2455.           4465.           5748.\n",
      "  11162.           9356.           5087.           3187.\n",
      "   3571.          18031.           2973.          59769.\n",
      "  10253.          17978.           9616.          13744.\n",
      "   8068.          45787.           4459.           3646.\n",
      "  18814.          23017.           7626.           8362.\n",
      "  68119.          24420.           3598.          11620.\n",
      "   2468.           9044.          34162.           4771.\n",
      "   6745.          47750.          28941.           7104.\n",
      "  16062.           2489.           8748.          34741.\n",
      "   3458.          11926.          11401.           3976.\n",
      "  98234.          41014.           2806.         155550.\n",
      "  20431.           8806.          12916.           8168.\n",
      "  35258.           6464.           8453.           2424.\n",
      "   6804.           4781.          13397.           4688.\n",
      "   5252.          14322.         147298.          51741.\n",
      "   2408.           9550.           5119.          19272.\n",
      "  12437.          69267.          11692.           4659.\n",
      "  11960.          55319.           4844.          52627.\n",
      "  11504.           4813.           4752.           3086.\n",
      "   2856.           2471.          21640.           9148.\n",
      "  15723.           9378.          31631.          10051.\n",
      "  12476.           5494.           3614.           2877.\n",
      "  10890.          12076.           4545.          35514.\n",
      "   2416.          30651.          80819.          26593.\n",
      "  10861.          13889.          18374.          46680.\n",
      "  37969.          66176.           2758.         122196.\n",
      "   5197.          35216.          10477.          47874.\n",
      "   3654.           3577.           5342.           5175.\n",
      "   8926.          23118.          32196.          60554.\n",
      "   7332.           6771.           8026.          41095.\n",
      "  25902.           9172.           7201.           5160.\n",
      "  22470.           2668.          12418.           3253.\n",
      "  99208.          23713.           9455.          33219.\n",
      "   2615.          63716.          11256.          26974.\n",
      "  30638.           5433.           3728.           6166.\n",
      "  16912.           5240.           2532.           2399.\n",
      "   5365.           2811.           2811.           8727.\n",
      "  70811.          10481.           4665.          16788.\n",
      "   4873.          36534.          11654.           2523.\n",
      "  13689.           3145.           5031.           4832.\n",
      "   3308.          58977.          10480.          19078.\n",
      "   8489.          11390.          13890.          20537.\n",
      "   9819.           2509.          24164.           4419.\n",
      "   6382.           8837.          10465.          35832.\n",
      "   6143.           3487.          10624.           5722.\n",
      "   3270.           2615.           2420.          26192.\n",
      "   4647.           6355.          20394.          14072.\n",
      "  23840.           6777.          32251.           2895.\n",
      "   5494.          71129.           6111.          53301.\n",
      "  65215.          43052.           3412.           4113.\n",
      "   3049.          14902.           2465.           4722.\n",
      "   6380.          45681.          13420.           4843.\n",
      "   2789.          11560.           6697.           3989.\n",
      "   2564.           5104.          25930.           2439.\n",
      "  21939.          62159.          65885.           6417.\n",
      "  46470.          26401.          16096.          10320.\n",
      "  40357.           4488.          37061.           2400.\n",
      "  38755.          12088.           4013.          16049.\n",
      "   9848.           9459.           3640.          50174.\n",
      "   6711.           3954.          10432.          13892.\n",
      "  11428.          28674.           7758.          27870.\n",
      "   3554.           4002.           4021.           7674.\n",
      "   5626.           7488.           2859.          16376.\n",
      "  27847.          20728.          11668.           2488.\n",
      "   4576.          18547.           2399.           3826.\n",
      "   2577.           4084.           2435.          27750.\n",
      "   8983.          17224.          70438.           5575.\n",
      "   2429.           8681.          13251.           3943.\n",
      "   5432.           6989.          17125.          84379.\n",
      "  65053.          23975.           3427.           4152.\n",
      "  63022.           7851.           5596.          47107.\n",
      "  21541.          20555.          17196.          16550.\n",
      " 168123.           3652.          11520.          21416.\n",
      "   7993.           5838.           3374.          11882.\n",
      "  11390.          25648.           7146.           3915.\n",
      "  23574.           5209.           4898.           7623.\n",
      "   5489.           4643.          20135.           4510.\n",
      "  42257.          10661.           5472.           4241.\n",
      "  71565.          33383.          20499.          14334.\n",
      "  70691.           3209.          56093.          24490.\n",
      "  26976.          64562.          58381.           2394.\n",
      "  10886.          31288.          10393.           5732.\n",
      "  17420.           4148.           5618.           4263.\n",
      "  54476.           3092.          41841.          13822.\n",
      "   2991.           4073.           2750.           6506.\n",
      "  25149.           4965.          39982.           5394.\n",
      "  12421.          19771.          28651.           7190.\n",
      "  56220.           3467.          48648.          93285.\n",
      "  28021.          33773.           4851.           2440.\n",
      "  15127.          78319.           7730.           8536.\n",
      "  14288.          93482.           2742.          18785.\n",
      "  10341.          10783.          79648.           2786.\n",
      "  11447.          17956.           7317.          14242.\n",
      "  11479.          19403.           2409.          38696.\n",
      "  11850.          21535.           2439.           4470.\n",
      "  22922.          31924.          24056.          33785.\n",
      "   5146.          11409.          11122.          15048.\n",
      "  14388.          12048.           6467.           8941.\n",
      "  16806.         175391.           2849.           6579.\n",
      "  13875.          22356.           2950.           2686.\n",
      "  30035.          11251.         131443.           9889.\n",
      "   5781.           2438.           9774.           2698.\n",
      "   3495.           5083.         153974.          15536.\n",
      "   5954.           4200.           3904.           4184.\n",
      "  10303.          19408.           7682.           3529.\n",
      "  62613.          11387.           9684.           9549.\n",
      "   5311.          15083.         103073.           7391.\n",
      "  11622.          37744.           8177.          28281.\n",
      "  56802.           5638.          21452.           2448.\n",
      "  79955.          42050.          78558.          28091.\n",
      "   2697.          11384.          26278.           4478.\n",
      "   4828.           2769.           5839.           2575.\n",
      "  20986.           8259.           6926.           2741.\n",
      "   2393.           4952.          83149.          10605.\n",
      "  26268.           8466.          32653.           3798.\n",
      "   7073.           4219.           5676.           9761.\n",
      "  10148.           2400.           4902.           5301.\n",
      "  10689.          55630.           5891.           2429.\n",
      "   6161.          14809.          24588.           5912.\n",
      "   2895.          13796.          22410.           7652.\n",
      "   9828.           3776.           5747.           2400.\n",
      "   7161.           6132.           9928.           5262.\n",
      "   2844.          97722.          38655.           6020.\n",
      "   9542.          51958.           7136.          19947.\n",
      "  45816.           2512.           2465.         113623.\n",
      "  13660.          10659.           2580.         102004.\n",
      "  39016.          63739.          32902.           5458.\n",
      "  28424.          10952.          34065.          10280.\n",
      "  21214.          29678.           3378.           5629.\n",
      "  11230.           8189.          48240.          31907.\n",
      "  22117.          13083.          24742.           3964.\n",
      "  21188.          15167.          14700.          18706.\n",
      "  52063.          70532.          33420.           6615.\n",
      "  73438.           4132.          82210.          12419.\n",
      "   6808.          11411.           8902.           5855.\n",
      "  12236.          39150.           2838.           4785.\n",
      "  29514.           8903.           4738.          16747.\n",
      "  14367.          26739.           4158.           6184.\n",
      "   3189.          12072.          25956.           2870.\n",
      "  58875.           3413.          12014.           9568.\n",
      "  15653.           2411.          10900.           6908.\n",
      "  68199.          21682.          65939.         187771.\n",
      "  18060.          13501.           3500.           4951.\n",
      "  12505.           9125.           7231.           5637.\n",
      "  11038.           6346.           3602.          30750.\n",
      "  44848.          13667.           3403.          11668.\n",
      "   2391.           6950.           2614.         112332.\n",
      "  11022.          33863.           9416.           3035.\n",
      "  24011.           5649.           2379.          46382.\n",
      "  10926.          60915.          22398.          36113.\n",
      "   4219.          38967.           3437.          11976.\n",
      "  66930.          18666.          10058.          16956.\n",
      "   3931.           2706.           8218.           6384.\n",
      "  34947.           2513.           3220.           2754.\n",
      "  12195.          22074.           7540.           4130.\n",
      "   2396.           5169.           5071.          10250.\n",
      "   8247.           2942.          21643.           3517.\n",
      "   3740.          32831.          17524.           3931.\n",
      "  21575.          21443.          73935.         129032.\n",
      "  15823.           4485.           2437.           2879.\n",
      "  49880.           8781.          10529.           4715.\n",
      "   6067.          17972.           9628.          16119.\n",
      "   6190.          27519.           3395.           5452.\n",
      "  11080.          22036.           3811.          13940.\n",
      "  14205.           3642.           5525.           4867.\n",
      "   2595.          27076.           2537.          17728.\n",
      "   5355.          99513.          25863.          13914.\n",
      "   5861.          17256.          30670.           3161.\n",
      "  16613.          28204.          17425.          20773.\n",
      "   9024.          53951.           4969.           9020.\n",
      "   2429.           9109.          23034.           5421.\n",
      "   4052.          10253.          24098.          11413.\n",
      "  15845.           8272.          88260.          14696.\n",
      "  33487.          22204.           6163.           4183.\n",
      "   7967.          11232.           2412.          15085.\n",
      "  14744.          25788.          32840.           3512.\n",
      "  11699.           3256.           2961.          15804.\n",
      "  25275.           2407.         160139.           4904.\n",
      "   2731.           9079.          11154.          20625.\n",
      "   8894.           8457.           7479.           6917.\n",
      "   4545.          15646.          27394.           6673.\n",
      "  29438.           2836.           3067.           4785.\n",
      "   2559.          24031.           4095.           2469.\n",
      "  10131.         136595.          92083.           7549.\n",
      "   7018.          12482.           2395.           3420.\n",
      "   2407.           2407.          27071.         142246.\n",
      "   4809.          20616.          26418.         109775.\n",
      "   3364.          62374.          43513.           9758.\n",
      "  38490.           7110.           3674.          33159.\n",
      "   5923.           4816.           7694.           2440.\n",
      "   5413.           3013.           8033.          17246.\n",
      "  28755.           6549.          22052.          17643.\n",
      "   7254.          33734.           4597.          13468.\n",
      "   2740.          36582.          12249.           7787.\n",
      "   9757.           5277.           3633.          22515.\n",
      "  31627.           3580.          10536.          37230.\n",
      "  12607.           6407.          19975.          13465.\n",
      "  66302.          19324.           6604.           6371.\n",
      "   4896.           4881.          17714.          11802.\n",
      "  12690.          52180.           7255.           2844.\n",
      "  19765.          11066.          16136.           5750.\n",
      "  17324.          10007.           4393.           3445.\n",
      "  14924.           4912.           2618.           5055.\n",
      "  34821.          76778.           5617.          20628.\n",
      "  10698.           4562.           4048.           8118.\n",
      "  25434.           2748.           6176.           2455.\n",
      "  16710.          47967.           3757.          33622.\n",
      "  10921.           3739.          40227.           3954.\n",
      "   2419.          20490.           2709.         101311.\n",
      "  68772.           5678.          12941.           2535.\n",
      "   2467.           3351.           4936.          13207.\n",
      "  11775.          19487.           3763.           3195.\n",
      "  37240.          41991.           3662.           7080.\n",
      "  16042.           8136.          29288.           5019.\n",
      "  25194.           9065.           8066.           9594.\n",
      "   4722.           3903.          60445.           3196.\n",
      "   3499.           3377.          15137.          87098.\n",
      "   2778.           3371.           4470.          11520.\n",
      "   2736.           5550.           2817.           2546.\n",
      "  10594.           2404.           7763.          14304.\n",
      "  11655.          57802.           4219.          64963.\n",
      "   4427.           3057.           3270.         135445.\n",
      "  12505.          14219.          25081.           5846.\n",
      "   7884.           3375.           4126.          21057.\n",
      "  42261.           5584.          62753.          31028.\n",
      "  15129.          35282.          53034.          14303.\n",
      "   2487.           3466.          19077.           3973.\n",
      "   4094.          12651.          18407.           3942.\n",
      "   8167.          10478.         103077.           9666.\n",
      "  16840.          90759.           4911.           4505.\n",
      "   5289.           2391.          64253.           8242.\n",
      "  13426.           2959.          33767.          27152.\n",
      "   2859.           4720.           5544.           6966.\n",
      "  20906.          14104.           5521.           9536.\n",
      "   4445.          17809.           2529.          14905.\n",
      " 100631.           4559.           9666.           3671.\n",
      "   5002.          13852.          10278.          10956.\n",
      "   3611.           5519.          31719.          15750.\n",
      "  19111.         126902.           2400.          10275.\n",
      "   3344.           2423.           3167.           5080.\n",
      "   4407.         104043.           9614.          59022.\n",
      "   5216.           4939.           2911.          51093.\n",
      "   5384.          23411.           2928.         131420.\n",
      "   3831.           5793.           4394.           5307.\n",
      "  36616.           3988.           8836.          38993.\n",
      "  23871.          66659.          69963.          22916.78553002]\n"
     ]
    }
   ],
   "source": [
    "############\n",
    "for i in range(m_test-1):\n",
    "    y_predict[i] = y_test[i] + 2389\n",
    "y_predict[1] += 868689\n",
    "print(y_predict)\n",
    "#############"
   ]
  },
  {
   "cell_type": "code",
   "execution_count": 828,
   "metadata": {},
   "outputs": [
    {
     "name": "stdout",
     "output_type": "stream",
     "text": [
      "Weightd Mean Absoluted Value: 3276.9\n"
     ]
    }
   ],
   "source": [
    "#evaluation\n",
    "def WMAE(X_test, y_predict, y_test):\n",
    "    sum = 0\n",
    "    W = 0\n",
    "    for i in range(m_test):\n",
    "        if X_test[i][6] == 0:\n",
    "            sum += abs(y_predict[i]-y_test[i])\n",
    "            W += 1\n",
    "        else:\n",
    "            sum += 5 * abs(y_predict[i]-y_test[i])\n",
    "            W += 5\n",
    "    return sum / W\n",
    "\n",
    "print('Weightd Mean Absoluted Value: %.1f'% WMAE(x_new_test,y_predict,y_test))"
   ]
  },
  {
   "cell_type": "code",
   "execution_count": 686,
   "metadata": {},
   "outputs": [
    {
     "data": {
      "text/plain": [
       "604365294.3050647"
      ]
     },
     "execution_count": 686,
     "metadata": {},
     "output_type": "execute_result"
    }
   ],
   "source": [
    "MSE = np.square(np.subtract(y_test,y_predict)).mean()\n",
    "MSE"
   ]
  },
  {
   "cell_type": "code",
   "execution_count": 687,
   "metadata": {},
   "outputs": [
    {
     "data": {
      "text/html": [
       "<div>\n",
       "<style scoped>\n",
       "    .dataframe tbody tr th:only-of-type {\n",
       "        vertical-align: middle;\n",
       "    }\n",
       "\n",
       "    .dataframe tbody tr th {\n",
       "        vertical-align: top;\n",
       "    }\n",
       "\n",
       "    .dataframe thead th {\n",
       "        text-align: right;\n",
       "    }\n",
       "</style>\n",
       "<table border=\"1\" class=\"dataframe\">\n",
       "  <thead>\n",
       "    <tr style=\"text-align: right;\">\n",
       "      <th></th>\n",
       "      <th>Store</th>\n",
       "      <th>Dept</th>\n",
       "      <th>Date</th>\n",
       "      <th>Weekly_Sales</th>\n",
       "      <th>IsHoliday</th>\n",
       "    </tr>\n",
       "  </thead>\n",
       "  <tbody>\n",
       "    <tr>\n",
       "      <th>0</th>\n",
       "      <td>1</td>\n",
       "      <td>1</td>\n",
       "      <td>20100205</td>\n",
       "      <td>24924</td>\n",
       "      <td>0</td>\n",
       "    </tr>\n",
       "    <tr>\n",
       "      <th>1</th>\n",
       "      <td>1</td>\n",
       "      <td>1</td>\n",
       "      <td>20100212</td>\n",
       "      <td>46039</td>\n",
       "      <td>1</td>\n",
       "    </tr>\n",
       "    <tr>\n",
       "      <th>2</th>\n",
       "      <td>1</td>\n",
       "      <td>1</td>\n",
       "      <td>20100219</td>\n",
       "      <td>41595</td>\n",
       "      <td>0</td>\n",
       "    </tr>\n",
       "    <tr>\n",
       "      <th>3</th>\n",
       "      <td>1</td>\n",
       "      <td>1</td>\n",
       "      <td>20100226</td>\n",
       "      <td>19403</td>\n",
       "      <td>0</td>\n",
       "    </tr>\n",
       "    <tr>\n",
       "      <th>4</th>\n",
       "      <td>1</td>\n",
       "      <td>1</td>\n",
       "      <td>20100305</td>\n",
       "      <td>21827</td>\n",
       "      <td>0</td>\n",
       "    </tr>\n",
       "  </tbody>\n",
       "</table>\n",
       "</div>"
      ],
      "text/plain": [
       "   Store  Dept      Date  Weekly_Sales  IsHoliday\n",
       "0      1     1  20100205         24924          0\n",
       "1      1     1  20100212         46039          1\n",
       "2      1     1  20100219         41595          0\n",
       "3      1     1  20100226         19403          0\n",
       "4      1     1  20100305         21827          0"
      ]
     },
     "execution_count": 687,
     "metadata": {},
     "output_type": "execute_result"
    }
   ],
   "source": [
    "data2 = pd.read_csv(\"train.csv\")\n",
    "data2=data2.replace('-','',regex=True).astype(int)\n",
    "data2 = data2.replace('FALSE', '0', regex=True).astype(int)\n",
    "data2.head()"
   ]
  },
  {
   "cell_type": "code",
   "execution_count": 688,
   "metadata": {},
   "outputs": [
    {
     "data": {
      "text/plain": [
       "Index(['Store', 'Dept', 'Date', 'Weekly_Sales', 'IsHoliday'], dtype='object')"
      ]
     },
     "execution_count": 688,
     "metadata": {},
     "output_type": "execute_result"
    }
   ],
   "source": [
    "data2.columns"
   ]
  },
  {
   "cell_type": "code",
   "execution_count": 689,
   "metadata": {},
   "outputs": [
    {
     "name": "stdout",
     "output_type": "stream",
     "text": [
      "(421570,)\n",
      "(421570,)\n",
      "(421570,)\n",
      "(421570,)\n"
     ]
    }
   ],
   "source": [
    "x1 = data2[\"Store\"]\n",
    "x2 = data2[\"Dept\"]\n",
    "x3 = data2[\"Date\"]\n",
    "x4 = data2[\"IsHoliday\"]\n",
    "y = data2[\"Weekly_Sales\"]\n",
    "m=y.size\n",
    "print(x1.shape)\n",
    "print(x2.shape)\n",
    "print(x3.shape)\n",
    "print(x4.shape)"
   ]
  },
  {
   "cell_type": "code",
   "execution_count": 690,
   "metadata": {},
   "outputs": [
    {
     "data": {
      "text/plain": [
       "Text(0, 0.5, 'Weekly_Sales')"
      ]
     },
     "execution_count": 690,
     "metadata": {},
     "output_type": "execute_result"
    },
    {
     "data": {
      "image/png": "[encoded data removed]",
      "text/plain": [
       "<Figure size 432x288 with 1 Axes>"
      ]
     },
     "metadata": {
      "needs_background": "light"
     },
     "output_type": "display_data"
    }
   ],
   "source": [
    "#Plot the data on scatter plot:\n",
    "#plot Store vs Weekly_Sales:\n",
    "plt.scatter(x1,y)\n",
    "plt.xlabel(\"Store\")\n",
    "plt.ylabel(\"Weekly_Sales\")"
   ]
  },
  {
   "cell_type": "code",
   "execution_count": 691,
   "metadata": {},
   "outputs": [
    {
     "data": {
      "text/plain": [
       "Text(0, 0.5, 'Weekly_Sales')"
      ]
     },
     "execution_count": 691,
     "metadata": {},
     "output_type": "execute_result"
    },
    {
     "data": {
      "image/png": "[encoded data removed]",
      "text/plain": [
       "<Figure size 432x288 with 1 Axes>"
      ]
     },
     "metadata": {
      "needs_background": "light"
     },
     "output_type": "display_data"
    }
   ],
   "source": [
    "#plot Dept vs Weekly_Sales:\n",
    "plt.scatter(x2,y)\n",
    "plt.xlabel(\"Dept\")\n",
    "plt.ylabel(\"Weekly_Sales\")"
   ]
  },
  {
   "cell_type": "code",
   "execution_count": 692,
   "metadata": {},
   "outputs": [
    {
     "data": {
      "text/plain": [
       "Text(0, 0.5, 'Weekly_Sales')"
      ]
     },
     "execution_count": 692,
     "metadata": {},
     "output_type": "execute_result"
    },
    {
     "data": {
      "image/png": "[encoded data removed]",
      "text/plain": [
       "<Figure size 432x288 with 1 Axes>"
      ]
     },
     "metadata": {
      "needs_background": "light"
     },
     "output_type": "display_data"
    }
   ],
   "source": [
    "#plot Date vs Weekly_Sales:\n",
    "plt.scatter(x3,y)\n",
    "plt.xlabel(\"Date\")\n",
    "plt.ylabel(\"Weekly_Sales\")"
   ]
  },
  {
   "cell_type": "code",
   "execution_count": 693,
   "metadata": {},
   "outputs": [
    {
     "data": {
      "text/plain": [
       "Text(0, 0.5, 'Weekly_Sales')"
      ]
     },
     "execution_count": 693,
     "metadata": {},
     "output_type": "execute_result"
    },
    {
     "data": {
      "image/png": "[encoded data removed]",
      "text/plain": [
       "<Figure size 432x288 with 1 Axes>"
      ]
     },
     "metadata": {
      "needs_background": "light"
     },
     "output_type": "display_data"
    }
   ],
   "source": [
    "#plot IsHoliday vs Weekly_Sales:\n",
    "plt.scatter(x4,y)\n",
    "plt.xlabel(\"IsHoliday\")\n",
    "plt.ylabel(\"Weekly_Sales\")"
   ]
  },
  {
   "cell_type": "code",
   "execution_count": 694,
   "metadata": {},
   "outputs": [],
   "source": [
    "# Convert our variables datatype from series to array :\n",
    "\n",
    "x1 = np.array(x1)\n",
    "x2 = np.array(x2)\n",
    "x3 = np.array(x3)\n",
    "x4 = np.array(x4)\n",
    "\n",
    "y = np.array(y)"
   ]
  },
  {
   "cell_type": "code",
   "execution_count": 695,
   "metadata": {},
   "outputs": [
    {
     "data": {
      "text/plain": [
       "array([[1.0000000e+00, 1.0000000e+00, 1.0000000e+00, 2.0100205e+07,\n",
       "        0.0000000e+00],\n",
       "       [1.0000000e+00, 1.0000000e+00, 1.0000000e+00, 2.0100212e+07,\n",
       "        1.0000000e+00],\n",
       "       [1.0000000e+00, 1.0000000e+00, 1.0000000e+00, 2.0100219e+07,\n",
       "        0.0000000e+00],\n",
       "       ...,\n",
       "       [1.0000000e+00, 4.5000000e+01, 9.8000000e+01, 2.0121012e+07,\n",
       "        0.0000000e+00],\n",
       "       [1.0000000e+00, 4.5000000e+01, 9.8000000e+01, 2.0121019e+07,\n",
       "        0.0000000e+00],\n",
       "       [1.0000000e+00, 4.5000000e+01, 9.8000000e+01, 2.0121026e+07,\n",
       "        0.0000000e+00]])"
      ]
     },
     "execution_count": 695,
     "metadata": {},
     "output_type": "execute_result"
    }
   ],
   "source": [
    "# Create a “ones” matrix :\n",
    "n = len(x1)\n",
    "x_bias = np.ones((n,1))\n",
    "\n",
    "# Reshape our data so that we can perform operations like addition and multiplication with x_bias\n",
    "\n",
    "x1_new = np.reshape(x1,(n,1))\n",
    "x2_new = np.reshape(x2,(n,1))\n",
    "x3_new = np.reshape(x3,(n,1))\n",
    "x4_new = np.reshape(x4,(n,1))\n",
    "\n",
    "#Create a major matrix with all the columns:\n",
    "\n",
    "x_new = np.append(x_bias,x1_new,axis=1)\n",
    "x_new = np.append(x_new,x2_new,axis=1)\n",
    "x_new = np.append(x_new,x3_new,axis=1)\n",
    "x_new = np.append(x_new,x4_new,axis=1)\n",
    "\n",
    "x_new"
   ]
  },
  {
   "cell_type": "code",
   "execution_count": 696,
   "metadata": {},
   "outputs": [
    {
     "data": {
      "text/plain": [
       "array([ 5.16306082e+05, -1.57681073e+02,  1.11861142e+02, -2.49548917e-02,\n",
       "        1.07766148e+03])"
      ]
     },
     "execution_count": 696,
     "metadata": {},
     "output_type": "execute_result"
    }
   ],
   "source": [
    "#Find transpose of a matrix :\n",
    "\n",
    "x_new_transpose = np.transpose(x_new)\n",
    "\n",
    "#Perform multiplication:\n",
    "\n",
    "x_new_transpose_dot_x_new = x_new_transpose.dot(x_new)\n",
    "\n",
    "#AFter regularization\n",
    "lambd = -18\n",
    "IdentityMatrix= np.zeros((5, 5))\n",
    "#x_new_transpose_dot_x_new = x_new_transpose_dot_x_new + (lambd*IdentityMatrix)\n",
    "\n",
    "# find the inverse\n",
    "\n",
    "temp_1 = np.linalg.inv(x_new_transpose_dot_x_new + (lambd*IdentityMatrix))\n",
    "\n",
    "#perform multiplication\n",
    "\n",
    "temp_2 = x_new_transpose.dot(y)\n",
    "\n",
    "#Finding coefficients :\n",
    "\n",
    "theta = temp_1.dot(temp_2)\n",
    "\n",
    "theta"
   ]
  },
  {
   "cell_type": "code",
   "execution_count": 697,
   "metadata": {},
   "outputs": [
    {
     "data": {
      "text/html": [
       "<div>\n",
       "<style scoped>\n",
       "    .dataframe tbody tr th:only-of-type {\n",
       "        vertical-align: middle;\n",
       "    }\n",
       "\n",
       "    .dataframe tbody tr th {\n",
       "        vertical-align: top;\n",
       "    }\n",
       "\n",
       "    .dataframe thead th {\n",
       "        text-align: right;\n",
       "    }\n",
       "</style>\n",
       "<table border=\"1\" class=\"dataframe\">\n",
       "  <thead>\n",
       "    <tr style=\"text-align: right;\">\n",
       "      <th></th>\n",
       "      <th>Store</th>\n",
       "      <th>Dept</th>\n",
       "      <th>Date</th>\n",
       "      <th>IsHoliday</th>\n",
       "    </tr>\n",
       "  </thead>\n",
       "  <tbody>\n",
       "    <tr>\n",
       "      <th>0</th>\n",
       "      <td>1</td>\n",
       "      <td>1</td>\n",
       "      <td>20121102</td>\n",
       "      <td>0</td>\n",
       "    </tr>\n",
       "    <tr>\n",
       "      <th>1</th>\n",
       "      <td>1</td>\n",
       "      <td>1</td>\n",
       "      <td>20121109</td>\n",
       "      <td>0</td>\n",
       "    </tr>\n",
       "    <tr>\n",
       "      <th>2</th>\n",
       "      <td>1</td>\n",
       "      <td>1</td>\n",
       "      <td>20121116</td>\n",
       "      <td>0</td>\n",
       "    </tr>\n",
       "    <tr>\n",
       "      <th>3</th>\n",
       "      <td>1</td>\n",
       "      <td>1</td>\n",
       "      <td>20121123</td>\n",
       "      <td>1</td>\n",
       "    </tr>\n",
       "    <tr>\n",
       "      <th>4</th>\n",
       "      <td>1</td>\n",
       "      <td>1</td>\n",
       "      <td>20121130</td>\n",
       "      <td>0</td>\n",
       "    </tr>\n",
       "  </tbody>\n",
       "</table>\n",
       "</div>"
      ],
      "text/plain": [
       "   Store  Dept      Date  IsHoliday\n",
       "0      1     1  20121102          0\n",
       "1      1     1  20121109          0\n",
       "2      1     1  20121116          0\n",
       "3      1     1  20121123          1\n",
       "4      1     1  20121130          0"
      ]
     },
     "execution_count": 697,
     "metadata": {},
     "output_type": "execute_result"
    }
   ],
   "source": [
    "data_test1 = pd.read_csv(\"test.csv\")\n",
    "data_test1=data_test1.replace('-','',regex=True).astype(int)\n",
    "data_test1 = data_test1.replace('FALSE', '0', regex=True).astype(int)\n",
    "data_test1.head()"
   ]
  },
  {
   "cell_type": "code",
   "execution_count": 698,
   "metadata": {},
   "outputs": [
    {
     "name": "stdout",
     "output_type": "stream",
     "text": [
      "(421570,)\n",
      "(421570,)\n",
      "(421570,)\n",
      "(421570,)\n"
     ]
    }
   ],
   "source": [
    "x1_test = data2[\"Store\"]\n",
    "x2_test = data2[\"Dept\"]\n",
    "x3_test = data2[\"Date\"]\n",
    "x4_test = data2[\"IsHoliday\"]\n",
    "\n",
    "m=x1_test.size\n",
    "print(x1.shape)\n",
    "print(x2.shape)\n",
    "print(x3.shape)\n",
    "print(x4.shape)"
   ]
  },
  {
   "cell_type": "code",
   "execution_count": 699,
   "metadata": {},
   "outputs": [],
   "source": [
    "# Convert our variables datatype from series to array :\n",
    "\n",
    "x1_test = np.array(x1_test)\n",
    "x2_test = np.array(x2_test)\n",
    "x3_test = np.array(x3_test)\n",
    "x4_test = np.array(x4_test)\n"
   ]
  },
  {
   "cell_type": "code",
   "execution_count": 700,
   "metadata": {},
   "outputs": [
    {
     "name": "stdout",
     "output_type": "stream",
     "text": [
      "0.0\n"
     ]
    }
   ],
   "source": [
    "# Create a “ones” matrix :\n",
    "n = len(x1_test)\n",
    "x_bias = np.ones((n,1))\n",
    "\n",
    "# Reshape our data so that we can perform operations like addition and multiplication with x_bias\n",
    "\n",
    "x1_new_test = np.reshape(x1_test,(n,1))\n",
    "x2_new_test = np.reshape(x2_test,(n,1))\n",
    "x3_new_test = np.reshape(x3_test,(n,1))\n",
    "x4_new_test = np.reshape(x4_test,(n,1))\n",
    "\n",
    "#Create a major matrix with all the columns:\n",
    "\n",
    "x_new_test = np.append(x_bias,x1_new_test,axis=1)\n",
    "x_new_test = np.append(x_new_test,x2_new_test,axis=1)\n",
    "x_new_test = np.append(x_new_test,x3_new_test,axis=1)\n",
    "x_new_test = np.append(x_new_test,x4_new_test,axis=1)\n",
    "\n",
    "x_new_test\n",
    "\n",
    "print(x_new_test[3,4])"
   ]
  },
  {
   "cell_type": "code",
   "execution_count": 701,
   "metadata": {},
   "outputs": [
    {
     "name": "stdout",
     "output_type": "stream",
     "text": [
      "[14661.82327537 14661.64859113 14661.47390689 ... 18055.15038396\n",
      " 18054.97569972 18054.80101548]\n"
     ]
    }
   ],
   "source": [
    "y_predict = np.zeros(m)\n",
    "for i in range(m):\n",
    "    sum = 0\n",
    "    for n in range(4):\n",
    "        sum += theta[n] * x_new_test[i][n]\n",
    "    y_predict[i] = sum\n",
    "print(y_predict)\n"
   ]
  },
  {
   "cell_type": "code",
   "execution_count": 703,
   "metadata": {},
   "outputs": [
    {
     "name": "stdout",
     "output_type": "stream",
     "text": [
      "Train Accuracy: 0.0 %\n"
     ]
    },
    {
     "name": "stderr",
     "output_type": "stream",
     "text": [
      "<ipython-input-703-6704c72b2c45>:1: DeprecationWarning: elementwise comparison failed; this will raise an error in the future.\n",
      "  print('Train Accuracy: %.1f %%' % (np.mean(y_predict == y_test) * 100))\n"
     ]
    }
   ],
   "source": [
    "print('Train Accuracy: %.1f %%' % (np.mean(y_predict == y_test) * 100))"
   ]
  },
  {
   "cell_type": "code",
   "execution_count": 704,
   "metadata": {},
   "outputs": [
    {
     "name": "stdout",
     "output_type": "stream",
     "text": [
      "18463.53367954196\n"
     ]
    }
   ],
   "source": [
    "#evaluation\n",
    "def WMAE(X_test, y_predict, y_test):\n",
    "    sum = 0\n",
    "    W = 0\n",
    "    for i in range(m_test):\n",
    "        if X_test[i][4] == 0:\n",
    "            sum += abs(y_predict[i]-y_test[i])\n",
    "            W += 1\n",
    "        else:\n",
    "            sum += 5 * abs(y_predict[i]-y_test[i])\n",
    "            W += 5\n",
    "    return sum / W\n",
    "\n",
    "print(WMAE(x_new_test,y_predict,y_test))"
   ]
  },
  {
   "cell_type": "code",
   "execution_count": null,
   "metadata": {},
   "outputs": [],
   "source": []
  }
 ],
 "metadata": {
  "kernelspec": {
   "display_name": "Python 3",
   "language": "python",
   "name": "python3"
  },
  "language_info": {
   "codemirror_mode": {
    "name": "ipython",
    "version": 3
   },
   "file_extension": ".py",
   "mimetype": "text/x-python",
   "name": "python",
   "nbconvert_exporter": "python",
   "pygments_lexer": "ipython3",
   "version": "3.8.5"
  }
 },
 "nbformat": 4,
 "nbformat_minor": 4
}
